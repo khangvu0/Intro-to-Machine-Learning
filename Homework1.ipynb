{
  "nbformat": 4,
  "nbformat_minor": 0,
  "metadata": {
    "colab": {
      "provenance": [],
      "collapsed_sections": []
    },
    "kernelspec": {
      "name": "python3",
      "display_name": "Python 3"
    },
    "language_info": {
      "name": "python"
    }
  },
  "cells": [
    {
      "cell_type": "markdown",
      "source": [
        "ECGR 4105 Homework 1 | Khang Vu | 801059139 | 9/26/2022"
      ],
      "metadata": {
        "id": "pq86AuxMWy8s"
      }
    },
    {
      "cell_type": "code",
      "source": [
        "import numpy as np \n",
        "import pandas as pd \n",
        "import matplotlib.pyplot as plt\n",
        "import seaborn as sns\n",
        "from sklearn.model_selection import train_test_split\n",
        "from sklearn import preprocessing "
      ],
      "metadata": {
        "id": "NsqAb_-GW70b"
      },
      "execution_count": 1,
      "outputs": []
    },
    {
      "cell_type": "code",
      "source": [
        "file_path = '/content/drive/MyDrive/Machine Learning/Housing.csv'\n",
        "df = pd.DataFrame(pd.read_csv(file_path))\n",
        "df.head()"
      ],
      "metadata": {
        "colab": {
          "base_uri": "https://localhost:8080/",
          "height": 206
        },
        "id": "4QaWJ96savxz",
        "outputId": "6d3e7477-35c8-4e29-edd9-fa5c702b0004"
      },
      "execution_count": 2,
      "outputs": [
        {
          "output_type": "execute_result",
          "data": {
            "text/plain": [
              "      price  area  bedrooms  bathrooms  stories mainroad guestroom basement  \\\n",
              "0  13300000  7420         4          2        3      yes        no       no   \n",
              "1  12250000  8960         4          4        4      yes        no       no   \n",
              "2  12250000  9960         3          2        2      yes        no      yes   \n",
              "3  12215000  7500         4          2        2      yes        no      yes   \n",
              "4  11410000  7420         4          1        2      yes       yes      yes   \n",
              "\n",
              "  hotwaterheating airconditioning  parking prefarea furnishingstatus  \n",
              "0              no             yes        2      yes        furnished  \n",
              "1              no             yes        3       no        furnished  \n",
              "2              no              no        2      yes   semi-furnished  \n",
              "3              no             yes        3      yes        furnished  \n",
              "4              no             yes        2       no        furnished  "
            ],
            "text/html": [
              "\n",
              "  <div id=\"df-49ca374a-06f3-40a1-adb6-2f0af0a2903a\">\n",
              "    <div class=\"colab-df-container\">\n",
              "      <div>\n",
              "<style scoped>\n",
              "    .dataframe tbody tr th:only-of-type {\n",
              "        vertical-align: middle;\n",
              "    }\n",
              "\n",
              "    .dataframe tbody tr th {\n",
              "        vertical-align: top;\n",
              "    }\n",
              "\n",
              "    .dataframe thead th {\n",
              "        text-align: right;\n",
              "    }\n",
              "</style>\n",
              "<table border=\"1\" class=\"dataframe\">\n",
              "  <thead>\n",
              "    <tr style=\"text-align: right;\">\n",
              "      <th></th>\n",
              "      <th>price</th>\n",
              "      <th>area</th>\n",
              "      <th>bedrooms</th>\n",
              "      <th>bathrooms</th>\n",
              "      <th>stories</th>\n",
              "      <th>mainroad</th>\n",
              "      <th>guestroom</th>\n",
              "      <th>basement</th>\n",
              "      <th>hotwaterheating</th>\n",
              "      <th>airconditioning</th>\n",
              "      <th>parking</th>\n",
              "      <th>prefarea</th>\n",
              "      <th>furnishingstatus</th>\n",
              "    </tr>\n",
              "  </thead>\n",
              "  <tbody>\n",
              "    <tr>\n",
              "      <th>0</th>\n",
              "      <td>13300000</td>\n",
              "      <td>7420</td>\n",
              "      <td>4</td>\n",
              "      <td>2</td>\n",
              "      <td>3</td>\n",
              "      <td>yes</td>\n",
              "      <td>no</td>\n",
              "      <td>no</td>\n",
              "      <td>no</td>\n",
              "      <td>yes</td>\n",
              "      <td>2</td>\n",
              "      <td>yes</td>\n",
              "      <td>furnished</td>\n",
              "    </tr>\n",
              "    <tr>\n",
              "      <th>1</th>\n",
              "      <td>12250000</td>\n",
              "      <td>8960</td>\n",
              "      <td>4</td>\n",
              "      <td>4</td>\n",
              "      <td>4</td>\n",
              "      <td>yes</td>\n",
              "      <td>no</td>\n",
              "      <td>no</td>\n",
              "      <td>no</td>\n",
              "      <td>yes</td>\n",
              "      <td>3</td>\n",
              "      <td>no</td>\n",
              "      <td>furnished</td>\n",
              "    </tr>\n",
              "    <tr>\n",
              "      <th>2</th>\n",
              "      <td>12250000</td>\n",
              "      <td>9960</td>\n",
              "      <td>3</td>\n",
              "      <td>2</td>\n",
              "      <td>2</td>\n",
              "      <td>yes</td>\n",
              "      <td>no</td>\n",
              "      <td>yes</td>\n",
              "      <td>no</td>\n",
              "      <td>no</td>\n",
              "      <td>2</td>\n",
              "      <td>yes</td>\n",
              "      <td>semi-furnished</td>\n",
              "    </tr>\n",
              "    <tr>\n",
              "      <th>3</th>\n",
              "      <td>12215000</td>\n",
              "      <td>7500</td>\n",
              "      <td>4</td>\n",
              "      <td>2</td>\n",
              "      <td>2</td>\n",
              "      <td>yes</td>\n",
              "      <td>no</td>\n",
              "      <td>yes</td>\n",
              "      <td>no</td>\n",
              "      <td>yes</td>\n",
              "      <td>3</td>\n",
              "      <td>yes</td>\n",
              "      <td>furnished</td>\n",
              "    </tr>\n",
              "    <tr>\n",
              "      <th>4</th>\n",
              "      <td>11410000</td>\n",
              "      <td>7420</td>\n",
              "      <td>4</td>\n",
              "      <td>1</td>\n",
              "      <td>2</td>\n",
              "      <td>yes</td>\n",
              "      <td>yes</td>\n",
              "      <td>yes</td>\n",
              "      <td>no</td>\n",
              "      <td>yes</td>\n",
              "      <td>2</td>\n",
              "      <td>no</td>\n",
              "      <td>furnished</td>\n",
              "    </tr>\n",
              "  </tbody>\n",
              "</table>\n",
              "</div>\n",
              "      <button class=\"colab-df-convert\" onclick=\"convertToInteractive('df-49ca374a-06f3-40a1-adb6-2f0af0a2903a')\"\n",
              "              title=\"Convert this dataframe to an interactive table.\"\n",
              "              style=\"display:none;\">\n",
              "        \n",
              "  <svg xmlns=\"http://www.w3.org/2000/svg\" height=\"24px\"viewBox=\"0 0 24 24\"\n",
              "       width=\"24px\">\n",
              "    <path d=\"M0 0h24v24H0V0z\" fill=\"none\"/>\n",
              "    <path d=\"M18.56 5.44l.94 2.06.94-2.06 2.06-.94-2.06-.94-.94-2.06-.94 2.06-2.06.94zm-11 1L8.5 8.5l.94-2.06 2.06-.94-2.06-.94L8.5 2.5l-.94 2.06-2.06.94zm10 10l.94 2.06.94-2.06 2.06-.94-2.06-.94-.94-2.06-.94 2.06-2.06.94z\"/><path d=\"M17.41 7.96l-1.37-1.37c-.4-.4-.92-.59-1.43-.59-.52 0-1.04.2-1.43.59L10.3 9.45l-7.72 7.72c-.78.78-.78 2.05 0 2.83L4 21.41c.39.39.9.59 1.41.59.51 0 1.02-.2 1.41-.59l7.78-7.78 2.81-2.81c.8-.78.8-2.07 0-2.86zM5.41 20L4 18.59l7.72-7.72 1.47 1.35L5.41 20z\"/>\n",
              "  </svg>\n",
              "      </button>\n",
              "      \n",
              "  <style>\n",
              "    .colab-df-container {\n",
              "      display:flex;\n",
              "      flex-wrap:wrap;\n",
              "      gap: 12px;\n",
              "    }\n",
              "\n",
              "    .colab-df-convert {\n",
              "      background-color: #E8F0FE;\n",
              "      border: none;\n",
              "      border-radius: 50%;\n",
              "      cursor: pointer;\n",
              "      display: none;\n",
              "      fill: #1967D2;\n",
              "      height: 32px;\n",
              "      padding: 0 0 0 0;\n",
              "      width: 32px;\n",
              "    }\n",
              "\n",
              "    .colab-df-convert:hover {\n",
              "      background-color: #E2EBFA;\n",
              "      box-shadow: 0px 1px 2px rgba(60, 64, 67, 0.3), 0px 1px 3px 1px rgba(60, 64, 67, 0.15);\n",
              "      fill: #174EA6;\n",
              "    }\n",
              "\n",
              "    [theme=dark] .colab-df-convert {\n",
              "      background-color: #3B4455;\n",
              "      fill: #D2E3FC;\n",
              "    }\n",
              "\n",
              "    [theme=dark] .colab-df-convert:hover {\n",
              "      background-color: #434B5C;\n",
              "      box-shadow: 0px 1px 3px 1px rgba(0, 0, 0, 0.15);\n",
              "      filter: drop-shadow(0px 1px 2px rgba(0, 0, 0, 0.3));\n",
              "      fill: #FFFFFF;\n",
              "    }\n",
              "  </style>\n",
              "\n",
              "      <script>\n",
              "        const buttonEl =\n",
              "          document.querySelector('#df-49ca374a-06f3-40a1-adb6-2f0af0a2903a button.colab-df-convert');\n",
              "        buttonEl.style.display =\n",
              "          google.colab.kernel.accessAllowed ? 'block' : 'none';\n",
              "\n",
              "        async function convertToInteractive(key) {\n",
              "          const element = document.querySelector('#df-49ca374a-06f3-40a1-adb6-2f0af0a2903a');\n",
              "          const dataTable =\n",
              "            await google.colab.kernel.invokeFunction('convertToInteractive',\n",
              "                                                     [key], {});\n",
              "          if (!dataTable) return;\n",
              "\n",
              "          const docLinkHtml = 'Like what you see? Visit the ' +\n",
              "            '<a target=\"_blank\" href=https://colab.research.google.com/notebooks/data_table.ipynb>data table notebook</a>'\n",
              "            + ' to learn more about interactive tables.';\n",
              "          element.innerHTML = '';\n",
              "          dataTable['output_type'] = 'display_data';\n",
              "          await google.colab.output.renderOutput(dataTable, element);\n",
              "          const docLink = document.createElement('div');\n",
              "          docLink.innerHTML = docLinkHtml;\n",
              "          element.appendChild(docLink);\n",
              "        }\n",
              "      </script>\n",
              "    </div>\n",
              "  </div>\n",
              "  "
            ]
          },
          "metadata": {},
          "execution_count": 2
        }
      ]
    },
    {
      "cell_type": "code",
      "source": [
        "df.shape"
      ],
      "metadata": {
        "colab": {
          "base_uri": "https://localhost:8080/"
        },
        "id": "T7VbGqmqbd_j",
        "outputId": "53ce8f7b-4f6e-43a4-e3f3-82f2ed73e223"
      },
      "execution_count": 3,
      "outputs": [
        {
          "output_type": "execute_result",
          "data": {
            "text/plain": [
              "(545, 13)"
            ]
          },
          "metadata": {},
          "execution_count": 3
        }
      ]
    },
    {
      "cell_type": "code",
      "source": [
        "def compute_loss (X, Y, theta, examples):\n",
        "  predictions = X.dot(theta)\n",
        "  errors = np.subtract(predictions, Y)\n",
        "  sqrErrors = np.square(errors)\n",
        "  J = 1 / (2 * examples) * np.sum(sqrErrors)\n",
        "  return J"
      ],
      "metadata": {
        "id": "RPzYlqNLsktU"
      },
      "execution_count": 4,
      "outputs": []
    },
    {
      "cell_type": "code",
      "source": [
        "def gradient_descent(X, Y, theta, examples, alpha, iterations):\n",
        "  loss_history = np.zeros(iterations)\n",
        "\n",
        "  for i in range(iterations):\n",
        "    predictions = X.dot(theta)\n",
        "    errors = np.subtract(predictions, Y)\n",
        "    sum_delta = (alpha/examples) * X.transpose().dot(errors);\n",
        "    theta = theta - sum_delta;\n",
        "    loss_history[i] = compute_loss(X,Y,theta,examples)\n",
        "\n",
        "  return theta, loss_history"
      ],
      "metadata": {
        "id": "Uejra-ZItDtV"
      },
      "execution_count": 5,
      "outputs": []
    },
    {
      "cell_type": "markdown",
      "source": [
        "Problem 1a\n"
      ],
      "metadata": {
        "id": "2R9agsYDiBkc"
      }
    },
    {
      "cell_type": "code",
      "source": [
        "#need to clean up dataset\n",
        "def clean_data(df):\n",
        "    temp = df\n",
        "    x = df.columns.tolist()   #turns the column titles into a list\n",
        "    types = df.dtypes           #returns the type of each column\n",
        "    for i in range(len(x)):\n",
        "        if types[i] == 'str' or types[i] == 'object':\n",
        "            temp[x[i]] = df[x[i]].astype('category').cat.codes\n",
        "        else: \n",
        "            temp[x[i]] = df[x[i]]\n",
        "    return temp\n",
        "\n",
        "df = clean_data(df)\n",
        "df.head()"
      ],
      "metadata": {
        "colab": {
          "base_uri": "https://localhost:8080/",
          "height": 206
        },
        "id": "FeOeNCqHjZ3j",
        "outputId": "257455e7-0468-4d82-b62f-2f35c36e6cc9"
      },
      "execution_count": 6,
      "outputs": [
        {
          "output_type": "execute_result",
          "data": {
            "text/plain": [
              "      price  area  bedrooms  bathrooms  stories  mainroad  guestroom  \\\n",
              "0  13300000  7420         4          2        3         1          0   \n",
              "1  12250000  8960         4          4        4         1          0   \n",
              "2  12250000  9960         3          2        2         1          0   \n",
              "3  12215000  7500         4          2        2         1          0   \n",
              "4  11410000  7420         4          1        2         1          1   \n",
              "\n",
              "   basement  hotwaterheating  airconditioning  parking  prefarea  \\\n",
              "0         0                0                1        2         1   \n",
              "1         0                0                1        3         0   \n",
              "2         1                0                0        2         1   \n",
              "3         1                0                1        3         1   \n",
              "4         1                0                1        2         0   \n",
              "\n",
              "   furnishingstatus  \n",
              "0                 0  \n",
              "1                 0  \n",
              "2                 1  \n",
              "3                 0  \n",
              "4                 0  "
            ],
            "text/html": [
              "\n",
              "  <div id=\"df-5cdc0f70-4508-498b-ab4a-230ec7cb400f\">\n",
              "    <div class=\"colab-df-container\">\n",
              "      <div>\n",
              "<style scoped>\n",
              "    .dataframe tbody tr th:only-of-type {\n",
              "        vertical-align: middle;\n",
              "    }\n",
              "\n",
              "    .dataframe tbody tr th {\n",
              "        vertical-align: top;\n",
              "    }\n",
              "\n",
              "    .dataframe thead th {\n",
              "        text-align: right;\n",
              "    }\n",
              "</style>\n",
              "<table border=\"1\" class=\"dataframe\">\n",
              "  <thead>\n",
              "    <tr style=\"text-align: right;\">\n",
              "      <th></th>\n",
              "      <th>price</th>\n",
              "      <th>area</th>\n",
              "      <th>bedrooms</th>\n",
              "      <th>bathrooms</th>\n",
              "      <th>stories</th>\n",
              "      <th>mainroad</th>\n",
              "      <th>guestroom</th>\n",
              "      <th>basement</th>\n",
              "      <th>hotwaterheating</th>\n",
              "      <th>airconditioning</th>\n",
              "      <th>parking</th>\n",
              "      <th>prefarea</th>\n",
              "      <th>furnishingstatus</th>\n",
              "    </tr>\n",
              "  </thead>\n",
              "  <tbody>\n",
              "    <tr>\n",
              "      <th>0</th>\n",
              "      <td>13300000</td>\n",
              "      <td>7420</td>\n",
              "      <td>4</td>\n",
              "      <td>2</td>\n",
              "      <td>3</td>\n",
              "      <td>1</td>\n",
              "      <td>0</td>\n",
              "      <td>0</td>\n",
              "      <td>0</td>\n",
              "      <td>1</td>\n",
              "      <td>2</td>\n",
              "      <td>1</td>\n",
              "      <td>0</td>\n",
              "    </tr>\n",
              "    <tr>\n",
              "      <th>1</th>\n",
              "      <td>12250000</td>\n",
              "      <td>8960</td>\n",
              "      <td>4</td>\n",
              "      <td>4</td>\n",
              "      <td>4</td>\n",
              "      <td>1</td>\n",
              "      <td>0</td>\n",
              "      <td>0</td>\n",
              "      <td>0</td>\n",
              "      <td>1</td>\n",
              "      <td>3</td>\n",
              "      <td>0</td>\n",
              "      <td>0</td>\n",
              "    </tr>\n",
              "    <tr>\n",
              "      <th>2</th>\n",
              "      <td>12250000</td>\n",
              "      <td>9960</td>\n",
              "      <td>3</td>\n",
              "      <td>2</td>\n",
              "      <td>2</td>\n",
              "      <td>1</td>\n",
              "      <td>0</td>\n",
              "      <td>1</td>\n",
              "      <td>0</td>\n",
              "      <td>0</td>\n",
              "      <td>2</td>\n",
              "      <td>1</td>\n",
              "      <td>1</td>\n",
              "    </tr>\n",
              "    <tr>\n",
              "      <th>3</th>\n",
              "      <td>12215000</td>\n",
              "      <td>7500</td>\n",
              "      <td>4</td>\n",
              "      <td>2</td>\n",
              "      <td>2</td>\n",
              "      <td>1</td>\n",
              "      <td>0</td>\n",
              "      <td>1</td>\n",
              "      <td>0</td>\n",
              "      <td>1</td>\n",
              "      <td>3</td>\n",
              "      <td>1</td>\n",
              "      <td>0</td>\n",
              "    </tr>\n",
              "    <tr>\n",
              "      <th>4</th>\n",
              "      <td>11410000</td>\n",
              "      <td>7420</td>\n",
              "      <td>4</td>\n",
              "      <td>1</td>\n",
              "      <td>2</td>\n",
              "      <td>1</td>\n",
              "      <td>1</td>\n",
              "      <td>1</td>\n",
              "      <td>0</td>\n",
              "      <td>1</td>\n",
              "      <td>2</td>\n",
              "      <td>0</td>\n",
              "      <td>0</td>\n",
              "    </tr>\n",
              "  </tbody>\n",
              "</table>\n",
              "</div>\n",
              "      <button class=\"colab-df-convert\" onclick=\"convertToInteractive('df-5cdc0f70-4508-498b-ab4a-230ec7cb400f')\"\n",
              "              title=\"Convert this dataframe to an interactive table.\"\n",
              "              style=\"display:none;\">\n",
              "        \n",
              "  <svg xmlns=\"http://www.w3.org/2000/svg\" height=\"24px\"viewBox=\"0 0 24 24\"\n",
              "       width=\"24px\">\n",
              "    <path d=\"M0 0h24v24H0V0z\" fill=\"none\"/>\n",
              "    <path d=\"M18.56 5.44l.94 2.06.94-2.06 2.06-.94-2.06-.94-.94-2.06-.94 2.06-2.06.94zm-11 1L8.5 8.5l.94-2.06 2.06-.94-2.06-.94L8.5 2.5l-.94 2.06-2.06.94zm10 10l.94 2.06.94-2.06 2.06-.94-2.06-.94-.94-2.06-.94 2.06-2.06.94z\"/><path d=\"M17.41 7.96l-1.37-1.37c-.4-.4-.92-.59-1.43-.59-.52 0-1.04.2-1.43.59L10.3 9.45l-7.72 7.72c-.78.78-.78 2.05 0 2.83L4 21.41c.39.39.9.59 1.41.59.51 0 1.02-.2 1.41-.59l7.78-7.78 2.81-2.81c.8-.78.8-2.07 0-2.86zM5.41 20L4 18.59l7.72-7.72 1.47 1.35L5.41 20z\"/>\n",
              "  </svg>\n",
              "      </button>\n",
              "      \n",
              "  <style>\n",
              "    .colab-df-container {\n",
              "      display:flex;\n",
              "      flex-wrap:wrap;\n",
              "      gap: 12px;\n",
              "    }\n",
              "\n",
              "    .colab-df-convert {\n",
              "      background-color: #E8F0FE;\n",
              "      border: none;\n",
              "      border-radius: 50%;\n",
              "      cursor: pointer;\n",
              "      display: none;\n",
              "      fill: #1967D2;\n",
              "      height: 32px;\n",
              "      padding: 0 0 0 0;\n",
              "      width: 32px;\n",
              "    }\n",
              "\n",
              "    .colab-df-convert:hover {\n",
              "      background-color: #E2EBFA;\n",
              "      box-shadow: 0px 1px 2px rgba(60, 64, 67, 0.3), 0px 1px 3px 1px rgba(60, 64, 67, 0.15);\n",
              "      fill: #174EA6;\n",
              "    }\n",
              "\n",
              "    [theme=dark] .colab-df-convert {\n",
              "      background-color: #3B4455;\n",
              "      fill: #D2E3FC;\n",
              "    }\n",
              "\n",
              "    [theme=dark] .colab-df-convert:hover {\n",
              "      background-color: #434B5C;\n",
              "      box-shadow: 0px 1px 3px 1px rgba(0, 0, 0, 0.15);\n",
              "      filter: drop-shadow(0px 1px 2px rgba(0, 0, 0, 0.3));\n",
              "      fill: #FFFFFF;\n",
              "    }\n",
              "  </style>\n",
              "\n",
              "      <script>\n",
              "        const buttonEl =\n",
              "          document.querySelector('#df-5cdc0f70-4508-498b-ab4a-230ec7cb400f button.colab-df-convert');\n",
              "        buttonEl.style.display =\n",
              "          google.colab.kernel.accessAllowed ? 'block' : 'none';\n",
              "\n",
              "        async function convertToInteractive(key) {\n",
              "          const element = document.querySelector('#df-5cdc0f70-4508-498b-ab4a-230ec7cb400f');\n",
              "          const dataTable =\n",
              "            await google.colab.kernel.invokeFunction('convertToInteractive',\n",
              "                                                     [key], {});\n",
              "          if (!dataTable) return;\n",
              "\n",
              "          const docLinkHtml = 'Like what you see? Visit the ' +\n",
              "            '<a target=\"_blank\" href=https://colab.research.google.com/notebooks/data_table.ipynb>data table notebook</a>'\n",
              "            + ' to learn more about interactive tables.';\n",
              "          element.innerHTML = '';\n",
              "          dataTable['output_type'] = 'display_data';\n",
              "          await google.colab.output.renderOutput(dataTable, element);\n",
              "          const docLink = document.createElement('div');\n",
              "          docLink.innerHTML = docLinkHtml;\n",
              "          element.appendChild(docLink);\n",
              "        }\n",
              "      </script>\n",
              "    </div>\n",
              "  </div>\n",
              "  "
            ]
          },
          "metadata": {},
          "execution_count": 6
        }
      ]
    },
    {
      "cell_type": "code",
      "source": [
        "varlist = ['area', 'bedrooms', 'bathrooms', 'stories', 'parking']\n",
        "X = df[varlist]\n",
        "Y = df.iloc[:,0]\n",
        "\n",
        "X_train, X_test, Y_train, Y_test = train_test_split(X, Y, test_size = .2, random_state = 100)\n",
        "\n",
        "#concat 1's vector\n",
        "train_in = pd.concat([pd.Series(1, index=X_train.index, name='00'), X_train], axis=1)\n",
        "test_in = pd.concat([pd.Series(1,index=X_test.index, name='00'), X_test], axis =1)\n",
        "\n",
        "theta_train = np.array([0]*len(train_in.columns))\n",
        "theta_test = np.array([0]*len(test_in.columns))\n",
        "\n",
        "train_examples = len(Y_train)\n",
        "test_examples = len(Y_test)"
      ],
      "metadata": {
        "id": "eMEKAgI2dgVg"
      },
      "execution_count": 7,
      "outputs": []
    },
    {
      "cell_type": "code",
      "source": [
        "loss_train = compute_loss(train_in,Y_train,theta_train,train_examples)\n",
        "loss_test = compute_loss(test_in,Y_test,theta_test,test_examples)\n",
        "\n",
        "print(\"Loss for Training Set: \", loss_train)\n",
        "print(\"Loss for Testing Set: \", loss_test)"
      ],
      "metadata": {
        "colab": {
          "base_uri": "https://localhost:8080/"
        },
        "id": "avYY3sxqs-qd",
        "outputId": "977ab829-978c-4212-d3d8-5a828eec51b0"
      },
      "execution_count": 8,
      "outputs": [
        {
          "output_type": "stream",
          "name": "stdout",
          "text": [
            "Loss for Training Set:  13238799902211.697\n",
            "Loss for Testing Set:  12579382214449.541\n"
          ]
        }
      ]
    },
    {
      "cell_type": "code",
      "source": [
        "#train\n",
        "theta_train = [0.,0.,0.,0.,0.,0.]\n",
        "iterations = 1500;\n",
        "alpha = 0.000000001;\n",
        "\n",
        "theta_train, loss_train = gradient_descent(train_in, Y_train, theta_train, train_examples, alpha, iterations)\n",
        "print('Final value of theta =', theta_train)\n",
        "\n",
        "#test\n",
        "theta_test = [0.,0.,0.,0.,0.,0.]\n",
        "iterations = 1500;\n",
        "alpha = 0.000000001;\n",
        "\n",
        "theta_test, loss_test = gradient_descent(test_in, Y_test, theta_test, test_examples, alpha, iterations)\n",
        "print('Final value of theta =', theta_test)"
      ],
      "metadata": {
        "colab": {
          "base_uri": "https://localhost:8080/"
        },
        "id": "Ibu-VXqjvVLb",
        "outputId": "cb7b9cd5-5bdf-4672-c692-e7c3e40ef8e0"
      },
      "execution_count": 9,
      "outputs": [
        {
          "output_type": "stream",
          "name": "stdout",
          "text": [
            "Final value of theta = 00             0.683990\n",
            "area         861.912462\n",
            "bedrooms       2.469063\n",
            "bathrooms      1.383418\n",
            "stories        2.098397\n",
            "parking        0.544771\n",
            "dtype: float64\n",
            "Final value of theta = 00             0.661874\n",
            "area         831.427280\n",
            "bedrooms       2.489104\n",
            "bathrooms      1.149905\n",
            "stories        1.854308\n",
            "parking        0.647919\n",
            "dtype: float64\n"
          ]
        }
      ]
    },
    {
      "cell_type": "code",
      "source": [
        "plt.plot(range(1,iterations + 1), loss_train, color = 'red')\n",
        "plt.plot(range(1,iterations + 1), loss_test, color = 'blue')\n",
        "plt.rcParams[\"figure.figsize\"] = (10,6)\n",
        "plt.grid()\n",
        "plt.xlabel('Number of iterations')\n",
        "plt.ylabel('Loss (J)')\n",
        "plt.title('Convergence of gradient descent')"
      ],
      "metadata": {
        "colab": {
          "base_uri": "https://localhost:8080/",
          "height": 313
        },
        "id": "A4veOMGPv_EZ",
        "outputId": "940920d3-b5d8-4111-af50-37d920daab70"
      },
      "execution_count": 10,
      "outputs": [
        {
          "output_type": "execute_result",
          "data": {
            "text/plain": [
              "Text(0.5, 1.0, 'Convergence of gradient descent')"
            ]
          },
          "metadata": {},
          "execution_count": 10
        },
        {
          "output_type": "display_data",
          "data": {
            "text/plain": [
              "<Figure size 432x288 with 1 Axes>"
            ],
            "image/png": "[encoded data removed]"
          },
          "metadata": {
            "needs_background": "light"
          }
        }
      ]
    },
    {
      "cell_type": "markdown",
      "source": [
        "Problem 1b"
      ],
      "metadata": {
        "id": "lIA7aJx60lkF"
      }
    },
    {
      "cell_type": "code",
      "source": [
        "varlist1b = ['area', 'bedrooms', 'bathrooms', 'stories', 'mainroad', 'guestroom', 'basement', 'hotwaterheating', 'airconditioning', 'parking', 'prefarea']\n",
        "\n",
        "X = df[varlist1b]\n",
        "Y = df.iloc[:,0]\n",
        "\n",
        "X_train, X_test, Y_train, Y_test = train_test_split(X, Y, test_size = .2, random_state = 100)\n",
        "\n",
        "#concat 1's vector\n",
        "train_in = pd.concat([pd.Series(1, index=X_train.index, name='00'), X_train], axis=1)\n",
        "test_in = pd.concat([pd.Series(1,index=X_test.index, name='00'), X_test], axis =1)\n",
        "\n",
        "theta_train = np.array([0]*len(train_in.columns))\n",
        "theta_test = np.array([0]*len(test_in.columns))\n",
        "\n",
        "train_examples = len(Y_train)\n",
        "test_examples = len(Y_test)"
      ],
      "metadata": {
        "id": "aMGaJCt30gI8"
      },
      "execution_count": 11,
      "outputs": []
    },
    {
      "cell_type": "code",
      "source": [
        "loss_train = compute_loss(train_in,Y_train,theta_train,train_examples)\n",
        "loss_test = compute_loss(test_in,Y_test,theta_test,test_examples)\n",
        "\n",
        "print(\"Loss for Training Set: \", loss_train)\n",
        "print(\"Loss for Testing Set: \", loss_test)"
      ],
      "metadata": {
        "colab": {
          "base_uri": "https://localhost:8080/"
        },
        "id": "xUNH7NZc0pMl",
        "outputId": "eb442328-be3f-45be-8181-a91396bf07f9"
      },
      "execution_count": 12,
      "outputs": [
        {
          "output_type": "stream",
          "name": "stdout",
          "text": [
            "Loss for Training Set:  13238799902211.697\n",
            "Loss for Testing Set:  12579382214449.541\n"
          ]
        }
      ]
    },
    {
      "cell_type": "code",
      "source": [
        "#Train\n",
        "theta_train = [0.,0.,0.,0.,0.,0.,0.,0.,0.,0.,0.,0.]\n",
        "iterations = 1500;\n",
        "alpha = 0.000000001;\n",
        "\n",
        "theta_train, loss_train = gradient_descent(train_in, Y_train, theta_train, train_examples, alpha, iterations)\n",
        "print('Final value of theta =', theta_train)\n",
        "\n",
        "#Test\n",
        "theta_test = [0.,0.,0.,0.,0.,0.,0.,0.,0.,0.,0.,0.]\n",
        "iterations = 1500;\n",
        "alpha = 0.000000001;\n",
        "\n",
        "theta_test, loss_test = gradient_descent(test_in, Y_test, theta_test, test_examples, alpha, iterations)\n",
        "print('Final value of theta =', theta_test)"
      ],
      "metadata": {
        "colab": {
          "base_uri": "https://localhost:8080/"
        },
        "id": "rPjAT4Ae0rYl",
        "outputId": "c7dc4d60-a3d6-4030-c084-96d37bd7405d"
      },
      "execution_count": 13,
      "outputs": [
        {
          "output_type": "stream",
          "name": "stdout",
          "text": [
            "Final value of theta = 00                   0.683990\n",
            "area               861.912304\n",
            "bedrooms             2.469062\n",
            "bathrooms            1.383418\n",
            "stories              2.098397\n",
            "mainroad             0.593447\n",
            "guestroom            0.237475\n",
            "basement             0.376361\n",
            "hotwaterheating      0.109144\n",
            "airconditioning      0.509626\n",
            "parking              0.544771\n",
            "prefarea             0.258800\n",
            "dtype: float64\n",
            "Final value of theta = 00                   0.661874\n",
            "area               831.427092\n",
            "bedrooms             2.489104\n",
            "bathrooms            1.149904\n",
            "stories              1.854308\n",
            "mainroad             0.618065\n",
            "guestroom            0.297292\n",
            "basement             0.620098\n",
            "hotwaterheating      0.008982\n",
            "airconditioning      0.594086\n",
            "parking              0.647919\n",
            "prefarea             0.372792\n",
            "dtype: float64\n"
          ]
        }
      ]
    },
    {
      "cell_type": "code",
      "source": [
        "plt.plot(range(1,iterations + 1), loss_train, color = 'red')\n",
        "plt.plot(range(1,iterations + 1), loss_test, color = 'blue')\n",
        "plt.rcParams[\"figure.figsize\"] = (10,6)\n",
        "plt.grid()\n",
        "plt.xlabel('Number of iterations')\n",
        "plt.ylabel('Loss (J)')\n",
        "plt.title('Convergence of gradient descent')"
      ],
      "metadata": {
        "colab": {
          "base_uri": "https://localhost:8080/",
          "height": 422
        },
        "id": "hKEMZ-K80t39",
        "outputId": "bab314e2-a2b2-49bb-a098-a5feee405f31"
      },
      "execution_count": 14,
      "outputs": [
        {
          "output_type": "execute_result",
          "data": {
            "text/plain": [
              "Text(0.5, 1.0, 'Convergence of gradient descent')"
            ]
          },
          "metadata": {},
          "execution_count": 14
        },
        {
          "output_type": "display_data",
          "data": {
            "text/plain": [
              "<Figure size 720x432 with 1 Axes>"
            ],
            "image/png": "[encoded data removed]"
          },
          "metadata": {
            "needs_background": "light"
          }
        }
      ]
    },
    {
      "cell_type": "markdown",
      "source": [
        "Problem 2a"
      ],
      "metadata": {
        "id": "nOLTJ2Ub0xvH"
      }
    },
    {
      "cell_type": "code",
      "source": [
        "file_path = '/content/drive/MyDrive/Machine Learning/Housing.csv'\n",
        "df = pd.DataFrame(pd.read_csv(file_path))\n",
        "\n",
        "normal_df = df\n",
        "standard_df = df"
      ],
      "metadata": {
        "id": "X6UScCeo0wS7"
      },
      "execution_count": 15,
      "outputs": []
    },
    {
      "cell_type": "code",
      "source": [
        "normal_df = clean_data(normal_df)\n",
        "normal_df.head()"
      ],
      "metadata": {
        "colab": {
          "base_uri": "https://localhost:8080/",
          "height": 206
        },
        "id": "JnSM9qy_1OLE",
        "outputId": "b997e76d-3ae2-4b95-d414-2bee9f0987ca"
      },
      "execution_count": 16,
      "outputs": [
        {
          "output_type": "execute_result",
          "data": {
            "text/plain": [
              "      price  area  bedrooms  bathrooms  stories  mainroad  guestroom  \\\n",
              "0  13300000  7420         4          2        3         1          0   \n",
              "1  12250000  8960         4          4        4         1          0   \n",
              "2  12250000  9960         3          2        2         1          0   \n",
              "3  12215000  7500         4          2        2         1          0   \n",
              "4  11410000  7420         4          1        2         1          1   \n",
              "\n",
              "   basement  hotwaterheating  airconditioning  parking  prefarea  \\\n",
              "0         0                0                1        2         1   \n",
              "1         0                0                1        3         0   \n",
              "2         1                0                0        2         1   \n",
              "3         1                0                1        3         1   \n",
              "4         1                0                1        2         0   \n",
              "\n",
              "   furnishingstatus  \n",
              "0                 0  \n",
              "1                 0  \n",
              "2                 1  \n",
              "3                 0  \n",
              "4                 0  "
            ],
            "text/html": [
              "\n",
              "  <div id=\"df-f5d26150-4138-492f-84b5-1801c4a7c25f\">\n",
              "    <div class=\"colab-df-container\">\n",
              "      <div>\n",
              "<style scoped>\n",
              "    .dataframe tbody tr th:only-of-type {\n",
              "        vertical-align: middle;\n",
              "    }\n",
              "\n",
              "    .dataframe tbody tr th {\n",
              "        vertical-align: top;\n",
              "    }\n",
              "\n",
              "    .dataframe thead th {\n",
              "        text-align: right;\n",
              "    }\n",
              "</style>\n",
              "<table border=\"1\" class=\"dataframe\">\n",
              "  <thead>\n",
              "    <tr style=\"text-align: right;\">\n",
              "      <th></th>\n",
              "      <th>price</th>\n",
              "      <th>area</th>\n",
              "      <th>bedrooms</th>\n",
              "      <th>bathrooms</th>\n",
              "      <th>stories</th>\n",
              "      <th>mainroad</th>\n",
              "      <th>guestroom</th>\n",
              "      <th>basement</th>\n",
              "      <th>hotwaterheating</th>\n",
              "      <th>airconditioning</th>\n",
              "      <th>parking</th>\n",
              "      <th>prefarea</th>\n",
              "      <th>furnishingstatus</th>\n",
              "    </tr>\n",
              "  </thead>\n",
              "  <tbody>\n",
              "    <tr>\n",
              "      <th>0</th>\n",
              "      <td>13300000</td>\n",
              "      <td>7420</td>\n",
              "      <td>4</td>\n",
              "      <td>2</td>\n",
              "      <td>3</td>\n",
              "      <td>1</td>\n",
              "      <td>0</td>\n",
              "      <td>0</td>\n",
              "      <td>0</td>\n",
              "      <td>1</td>\n",
              "      <td>2</td>\n",
              "      <td>1</td>\n",
              "      <td>0</td>\n",
              "    </tr>\n",
              "    <tr>\n",
              "      <th>1</th>\n",
              "      <td>12250000</td>\n",
              "      <td>8960</td>\n",
              "      <td>4</td>\n",
              "      <td>4</td>\n",
              "      <td>4</td>\n",
              "      <td>1</td>\n",
              "      <td>0</td>\n",
              "      <td>0</td>\n",
              "      <td>0</td>\n",
              "      <td>1</td>\n",
              "      <td>3</td>\n",
              "      <td>0</td>\n",
              "      <td>0</td>\n",
              "    </tr>\n",
              "    <tr>\n",
              "      <th>2</th>\n",
              "      <td>12250000</td>\n",
              "      <td>9960</td>\n",
              "      <td>3</td>\n",
              "      <td>2</td>\n",
              "      <td>2</td>\n",
              "      <td>1</td>\n",
              "      <td>0</td>\n",
              "      <td>1</td>\n",
              "      <td>0</td>\n",
              "      <td>0</td>\n",
              "      <td>2</td>\n",
              "      <td>1</td>\n",
              "      <td>1</td>\n",
              "    </tr>\n",
              "    <tr>\n",
              "      <th>3</th>\n",
              "      <td>12215000</td>\n",
              "      <td>7500</td>\n",
              "      <td>4</td>\n",
              "      <td>2</td>\n",
              "      <td>2</td>\n",
              "      <td>1</td>\n",
              "      <td>0</td>\n",
              "      <td>1</td>\n",
              "      <td>0</td>\n",
              "      <td>1</td>\n",
              "      <td>3</td>\n",
              "      <td>1</td>\n",
              "      <td>0</td>\n",
              "    </tr>\n",
              "    <tr>\n",
              "      <th>4</th>\n",
              "      <td>11410000</td>\n",
              "      <td>7420</td>\n",
              "      <td>4</td>\n",
              "      <td>1</td>\n",
              "      <td>2</td>\n",
              "      <td>1</td>\n",
              "      <td>1</td>\n",
              "      <td>1</td>\n",
              "      <td>0</td>\n",
              "      <td>1</td>\n",
              "      <td>2</td>\n",
              "      <td>0</td>\n",
              "      <td>0</td>\n",
              "    </tr>\n",
              "  </tbody>\n",
              "</table>\n",
              "</div>\n",
              "      <button class=\"colab-df-convert\" onclick=\"convertToInteractive('df-f5d26150-4138-492f-84b5-1801c4a7c25f')\"\n",
              "              title=\"Convert this dataframe to an interactive table.\"\n",
              "              style=\"display:none;\">\n",
              "        \n",
              "  <svg xmlns=\"http://www.w3.org/2000/svg\" height=\"24px\"viewBox=\"0 0 24 24\"\n",
              "       width=\"24px\">\n",
              "    <path d=\"M0 0h24v24H0V0z\" fill=\"none\"/>\n",
              "    <path d=\"M18.56 5.44l.94 2.06.94-2.06 2.06-.94-2.06-.94-.94-2.06-.94 2.06-2.06.94zm-11 1L8.5 8.5l.94-2.06 2.06-.94-2.06-.94L8.5 2.5l-.94 2.06-2.06.94zm10 10l.94 2.06.94-2.06 2.06-.94-2.06-.94-.94-2.06-.94 2.06-2.06.94z\"/><path d=\"M17.41 7.96l-1.37-1.37c-.4-.4-.92-.59-1.43-.59-.52 0-1.04.2-1.43.59L10.3 9.45l-7.72 7.72c-.78.78-.78 2.05 0 2.83L4 21.41c.39.39.9.59 1.41.59.51 0 1.02-.2 1.41-.59l7.78-7.78 2.81-2.81c.8-.78.8-2.07 0-2.86zM5.41 20L4 18.59l7.72-7.72 1.47 1.35L5.41 20z\"/>\n",
              "  </svg>\n",
              "      </button>\n",
              "      \n",
              "  <style>\n",
              "    .colab-df-container {\n",
              "      display:flex;\n",
              "      flex-wrap:wrap;\n",
              "      gap: 12px;\n",
              "    }\n",
              "\n",
              "    .colab-df-convert {\n",
              "      background-color: #E8F0FE;\n",
              "      border: none;\n",
              "      border-radius: 50%;\n",
              "      cursor: pointer;\n",
              "      display: none;\n",
              "      fill: #1967D2;\n",
              "      height: 32px;\n",
              "      padding: 0 0 0 0;\n",
              "      width: 32px;\n",
              "    }\n",
              "\n",
              "    .colab-df-convert:hover {\n",
              "      background-color: #E2EBFA;\n",
              "      box-shadow: 0px 1px 2px rgba(60, 64, 67, 0.3), 0px 1px 3px 1px rgba(60, 64, 67, 0.15);\n",
              "      fill: #174EA6;\n",
              "    }\n",
              "\n",
              "    [theme=dark] .colab-df-convert {\n",
              "      background-color: #3B4455;\n",
              "      fill: #D2E3FC;\n",
              "    }\n",
              "\n",
              "    [theme=dark] .colab-df-convert:hover {\n",
              "      background-color: #434B5C;\n",
              "      box-shadow: 0px 1px 3px 1px rgba(0, 0, 0, 0.15);\n",
              "      filter: drop-shadow(0px 1px 2px rgba(0, 0, 0, 0.3));\n",
              "      fill: #FFFFFF;\n",
              "    }\n",
              "  </style>\n",
              "\n",
              "      <script>\n",
              "        const buttonEl =\n",
              "          document.querySelector('#df-f5d26150-4138-492f-84b5-1801c4a7c25f button.colab-df-convert');\n",
              "        buttonEl.style.display =\n",
              "          google.colab.kernel.accessAllowed ? 'block' : 'none';\n",
              "\n",
              "        async function convertToInteractive(key) {\n",
              "          const element = document.querySelector('#df-f5d26150-4138-492f-84b5-1801c4a7c25f');\n",
              "          const dataTable =\n",
              "            await google.colab.kernel.invokeFunction('convertToInteractive',\n",
              "                                                     [key], {});\n",
              "          if (!dataTable) return;\n",
              "\n",
              "          const docLinkHtml = 'Like what you see? Visit the ' +\n",
              "            '<a target=\"_blank\" href=https://colab.research.google.com/notebooks/data_table.ipynb>data table notebook</a>'\n",
              "            + ' to learn more about interactive tables.';\n",
              "          element.innerHTML = '';\n",
              "          dataTable['output_type'] = 'display_data';\n",
              "          await google.colab.output.renderOutput(dataTable, element);\n",
              "          const docLink = document.createElement('div');\n",
              "          docLink.innerHTML = docLinkHtml;\n",
              "          element.appendChild(docLink);\n",
              "        }\n",
              "      </script>\n",
              "    </div>\n",
              "  </div>\n",
              "  "
            ]
          },
          "metadata": {},
          "execution_count": 16
        }
      ]
    },
    {
      "cell_type": "code",
      "source": [
        "standard_df = clean_data(standard_df)\n",
        "standard_df.head()"
      ],
      "metadata": {
        "colab": {
          "base_uri": "https://localhost:8080/",
          "height": 206
        },
        "id": "V8IwwXQP-ddm",
        "outputId": "8addbc26-f251-4506-a6f6-c4be173f5cd7"
      },
      "execution_count": 17,
      "outputs": [
        {
          "output_type": "execute_result",
          "data": {
            "text/plain": [
              "      price  area  bedrooms  bathrooms  stories  mainroad  guestroom  \\\n",
              "0  13300000  7420         4          2        3         1          0   \n",
              "1  12250000  8960         4          4        4         1          0   \n",
              "2  12250000  9960         3          2        2         1          0   \n",
              "3  12215000  7500         4          2        2         1          0   \n",
              "4  11410000  7420         4          1        2         1          1   \n",
              "\n",
              "   basement  hotwaterheating  airconditioning  parking  prefarea  \\\n",
              "0         0                0                1        2         1   \n",
              "1         0                0                1        3         0   \n",
              "2         1                0                0        2         1   \n",
              "3         1                0                1        3         1   \n",
              "4         1                0                1        2         0   \n",
              "\n",
              "   furnishingstatus  \n",
              "0                 0  \n",
              "1                 0  \n",
              "2                 1  \n",
              "3                 0  \n",
              "4                 0  "
            ],
            "text/html": [
              "\n",
              "  <div id=\"df-ca6d873e-7573-4675-9f9b-002dfd489d57\">\n",
              "    <div class=\"colab-df-container\">\n",
              "      <div>\n",
              "<style scoped>\n",
              "    .dataframe tbody tr th:only-of-type {\n",
              "        vertical-align: middle;\n",
              "    }\n",
              "\n",
              "    .dataframe tbody tr th {\n",
              "        vertical-align: top;\n",
              "    }\n",
              "\n",
              "    .dataframe thead th {\n",
              "        text-align: right;\n",
              "    }\n",
              "</style>\n",
              "<table border=\"1\" class=\"dataframe\">\n",
              "  <thead>\n",
              "    <tr style=\"text-align: right;\">\n",
              "      <th></th>\n",
              "      <th>price</th>\n",
              "      <th>area</th>\n",
              "      <th>bedrooms</th>\n",
              "      <th>bathrooms</th>\n",
              "      <th>stories</th>\n",
              "      <th>mainroad</th>\n",
              "      <th>guestroom</th>\n",
              "      <th>basement</th>\n",
              "      <th>hotwaterheating</th>\n",
              "      <th>airconditioning</th>\n",
              "      <th>parking</th>\n",
              "      <th>prefarea</th>\n",
              "      <th>furnishingstatus</th>\n",
              "    </tr>\n",
              "  </thead>\n",
              "  <tbody>\n",
              "    <tr>\n",
              "      <th>0</th>\n",
              "      <td>13300000</td>\n",
              "      <td>7420</td>\n",
              "      <td>4</td>\n",
              "      <td>2</td>\n",
              "      <td>3</td>\n",
              "      <td>1</td>\n",
              "      <td>0</td>\n",
              "      <td>0</td>\n",
              "      <td>0</td>\n",
              "      <td>1</td>\n",
              "      <td>2</td>\n",
              "      <td>1</td>\n",
              "      <td>0</td>\n",
              "    </tr>\n",
              "    <tr>\n",
              "      <th>1</th>\n",
              "      <td>12250000</td>\n",
              "      <td>8960</td>\n",
              "      <td>4</td>\n",
              "      <td>4</td>\n",
              "      <td>4</td>\n",
              "      <td>1</td>\n",
              "      <td>0</td>\n",
              "      <td>0</td>\n",
              "      <td>0</td>\n",
              "      <td>1</td>\n",
              "      <td>3</td>\n",
              "      <td>0</td>\n",
              "      <td>0</td>\n",
              "    </tr>\n",
              "    <tr>\n",
              "      <th>2</th>\n",
              "      <td>12250000</td>\n",
              "      <td>9960</td>\n",
              "      <td>3</td>\n",
              "      <td>2</td>\n",
              "      <td>2</td>\n",
              "      <td>1</td>\n",
              "      <td>0</td>\n",
              "      <td>1</td>\n",
              "      <td>0</td>\n",
              "      <td>0</td>\n",
              "      <td>2</td>\n",
              "      <td>1</td>\n",
              "      <td>1</td>\n",
              "    </tr>\n",
              "    <tr>\n",
              "      <th>3</th>\n",
              "      <td>12215000</td>\n",
              "      <td>7500</td>\n",
              "      <td>4</td>\n",
              "      <td>2</td>\n",
              "      <td>2</td>\n",
              "      <td>1</td>\n",
              "      <td>0</td>\n",
              "      <td>1</td>\n",
              "      <td>0</td>\n",
              "      <td>1</td>\n",
              "      <td>3</td>\n",
              "      <td>1</td>\n",
              "      <td>0</td>\n",
              "    </tr>\n",
              "    <tr>\n",
              "      <th>4</th>\n",
              "      <td>11410000</td>\n",
              "      <td>7420</td>\n",
              "      <td>4</td>\n",
              "      <td>1</td>\n",
              "      <td>2</td>\n",
              "      <td>1</td>\n",
              "      <td>1</td>\n",
              "      <td>1</td>\n",
              "      <td>0</td>\n",
              "      <td>1</td>\n",
              "      <td>2</td>\n",
              "      <td>0</td>\n",
              "      <td>0</td>\n",
              "    </tr>\n",
              "  </tbody>\n",
              "</table>\n",
              "</div>\n",
              "      <button class=\"colab-df-convert\" onclick=\"convertToInteractive('df-ca6d873e-7573-4675-9f9b-002dfd489d57')\"\n",
              "              title=\"Convert this dataframe to an interactive table.\"\n",
              "              style=\"display:none;\">\n",
              "        \n",
              "  <svg xmlns=\"http://www.w3.org/2000/svg\" height=\"24px\"viewBox=\"0 0 24 24\"\n",
              "       width=\"24px\">\n",
              "    <path d=\"M0 0h24v24H0V0z\" fill=\"none\"/>\n",
              "    <path d=\"M18.56 5.44l.94 2.06.94-2.06 2.06-.94-2.06-.94-.94-2.06-.94 2.06-2.06.94zm-11 1L8.5 8.5l.94-2.06 2.06-.94-2.06-.94L8.5 2.5l-.94 2.06-2.06.94zm10 10l.94 2.06.94-2.06 2.06-.94-2.06-.94-.94-2.06-.94 2.06-2.06.94z\"/><path d=\"M17.41 7.96l-1.37-1.37c-.4-.4-.92-.59-1.43-.59-.52 0-1.04.2-1.43.59L10.3 9.45l-7.72 7.72c-.78.78-.78 2.05 0 2.83L4 21.41c.39.39.9.59 1.41.59.51 0 1.02-.2 1.41-.59l7.78-7.78 2.81-2.81c.8-.78.8-2.07 0-2.86zM5.41 20L4 18.59l7.72-7.72 1.47 1.35L5.41 20z\"/>\n",
              "  </svg>\n",
              "      </button>\n",
              "      \n",
              "  <style>\n",
              "    .colab-df-container {\n",
              "      display:flex;\n",
              "      flex-wrap:wrap;\n",
              "      gap: 12px;\n",
              "    }\n",
              "\n",
              "    .colab-df-convert {\n",
              "      background-color: #E8F0FE;\n",
              "      border: none;\n",
              "      border-radius: 50%;\n",
              "      cursor: pointer;\n",
              "      display: none;\n",
              "      fill: #1967D2;\n",
              "      height: 32px;\n",
              "      padding: 0 0 0 0;\n",
              "      width: 32px;\n",
              "    }\n",
              "\n",
              "    .colab-df-convert:hover {\n",
              "      background-color: #E2EBFA;\n",
              "      box-shadow: 0px 1px 2px rgba(60, 64, 67, 0.3), 0px 1px 3px 1px rgba(60, 64, 67, 0.15);\n",
              "      fill: #174EA6;\n",
              "    }\n",
              "\n",
              "    [theme=dark] .colab-df-convert {\n",
              "      background-color: #3B4455;\n",
              "      fill: #D2E3FC;\n",
              "    }\n",
              "\n",
              "    [theme=dark] .colab-df-convert:hover {\n",
              "      background-color: #434B5C;\n",
              "      box-shadow: 0px 1px 3px 1px rgba(0, 0, 0, 0.15);\n",
              "      filter: drop-shadow(0px 1px 2px rgba(0, 0, 0, 0.3));\n",
              "      fill: #FFFFFF;\n",
              "    }\n",
              "  </style>\n",
              "\n",
              "      <script>\n",
              "        const buttonEl =\n",
              "          document.querySelector('#df-ca6d873e-7573-4675-9f9b-002dfd489d57 button.colab-df-convert');\n",
              "        buttonEl.style.display =\n",
              "          google.colab.kernel.accessAllowed ? 'block' : 'none';\n",
              "\n",
              "        async function convertToInteractive(key) {\n",
              "          const element = document.querySelector('#df-ca6d873e-7573-4675-9f9b-002dfd489d57');\n",
              "          const dataTable =\n",
              "            await google.colab.kernel.invokeFunction('convertToInteractive',\n",
              "                                                     [key], {});\n",
              "          if (!dataTable) return;\n",
              "\n",
              "          const docLinkHtml = 'Like what you see? Visit the ' +\n",
              "            '<a target=\"_blank\" href=https://colab.research.google.com/notebooks/data_table.ipynb>data table notebook</a>'\n",
              "            + ' to learn more about interactive tables.';\n",
              "          element.innerHTML = '';\n",
              "          dataTable['output_type'] = 'display_data';\n",
              "          await google.colab.output.renderOutput(dataTable, element);\n",
              "          const docLink = document.createElement('div');\n",
              "          docLink.innerHTML = docLinkHtml;\n",
              "          element.appendChild(docLink);\n",
              "        }\n",
              "      </script>\n",
              "    </div>\n",
              "  </div>\n",
              "  "
            ]
          },
          "metadata": {},
          "execution_count": 17
        }
      ]
    },
    {
      "cell_type": "code",
      "source": [
        "norm_col = normal_df.columns\n",
        "normalize = preprocessing.Normalizer().fit(normal_df)\n",
        "normal_df[norm_col] = normalize.transform(normal_df[norm_col])"
      ],
      "metadata": {
        "id": "8NPEd3V-1k4f"
      },
      "execution_count": 18,
      "outputs": []
    },
    {
      "cell_type": "code",
      "source": [
        "stand_col = standard_df.columns\n",
        "standardize = preprocessing.StandardScaler().fit(standard_df)\n",
        "standard_df[stand_col] = standardize.transform(standard_df[stand_col])"
      ],
      "metadata": {
        "id": "aPqp1wSO1cTq"
      },
      "execution_count": 19,
      "outputs": []
    },
    {
      "cell_type": "code",
      "source": [
        "varlist2a = ['area', 'bedrooms', 'bathrooms', 'stories', 'parking']\n",
        "\n",
        "#Normal\n",
        "norm_in = normal_df[varlist2a]\n",
        "norm_out = normal_df.iloc[:,0]\n",
        "X_norm_train, X_norm_test, Y_norm_train, Y_norm_test = train_test_split(norm_in, norm_out, test_size = .2, random_state = 100)\n",
        "\n",
        "norm_train_in = pd.concat([pd.Series(1, index=X_norm_train.index, name='00'), X_norm_train], axis=1)\n",
        "norm_test_in = pd.concat([pd.Series(1,index=X_norm_test.index, name='00'), X_norm_test], axis =1)\n",
        "\n",
        "norm_theta_train = np.array([0]*len(norm_train_in.columns))\n",
        "norm_theta_test = np.array([0]*len(norm_test_in.columns))\n",
        "\n",
        "norm_train_examples = len(Y_norm_train)\n",
        "norm_test_examples = len(Y_norm_test)\n",
        "\n",
        "#Standard\n",
        "stand_in = standard_df[varlist2a]\n",
        "stand_out = standard_df.iloc[:,0]\n",
        "X_stand_train, X_stand_test, Y_stand_train, Y_stand_test = train_test_split(stand_in, stand_out, test_size = .2, random_state = 100)\n",
        "\n",
        "stand_train_in = pd.concat([pd.Series(1, index=X_stand_train.index, name='00'), X_norm_train], axis=1)\n",
        "stand_test_in = pd.concat([pd.Series(1,index=X_stand_test.index, name='00'), X_norm_test], axis =1)\n",
        "\n",
        "stand_theta_train = np.array([0]*len(stand_train_in.columns))\n",
        "stand_theta_test = np.array([0]*len(stand_test_in.columns))\n",
        "\n",
        "stand_train_examples = len(Y_stand_train)\n",
        "stand_test_examples = len(Y_stand_test)"
      ],
      "metadata": {
        "id": "I7xnHg6l1l1X"
      },
      "execution_count": 20,
      "outputs": []
    },
    {
      "cell_type": "code",
      "source": [
        "#Normal\n",
        "norm_loss_train = compute_loss(norm_train_in, Y_norm_train, norm_theta_train, norm_train_examples)\n",
        "norm_loss_test = compute_loss(norm_test_in, Y_norm_test, norm_theta_test, norm_test_examples)\n",
        "\n",
        "print(\"Normalized loss of the Training Set: \",norm_loss_train)\n",
        "print(\"Normalized loss of the Testing Set: \",norm_loss_test)\n",
        "\n",
        "\n",
        "#Standard\n",
        "stand_loss_train = compute_loss(stand_train_in, Y_stand_train, stand_theta_train, stand_train_examples)\n",
        "stand_loss_test = compute_loss(stand_test_in, Y_stand_test, stand_theta_test, stand_test_examples)\n",
        "\n",
        "print(\"Standardized loss of the Training Set: \",stand_loss_train)\n",
        "print(\"Standardized loss of the Testing Set: \",stand_loss_test)"
      ],
      "metadata": {
        "colab": {
          "base_uri": "https://localhost:8080/"
        },
        "id": "zteYjHB-1seK",
        "outputId": "fde6040c-46ee-4510-d764-04d562391252"
      },
      "execution_count": 21,
      "outputs": [
        {
          "output_type": "stream",
          "name": "stdout",
          "text": [
            "Normalized loss of the Training Set:  0.517639469200009\n",
            "Normalized loss of the Testing Set:  0.429442123199964\n",
            "Standardized loss of the Training Set:  0.517639469200009\n",
            "Standardized loss of the Testing Set:  0.429442123199964\n"
          ]
        }
      ]
    },
    {
      "cell_type": "code",
      "source": [
        "###Training\n",
        "#Normal\n",
        "norm_theta_train = [0.,0.,0.,0.,0.,0.]\n",
        "iterations = 1500;\n",
        "alpha = 0.1;\n",
        "\n",
        "norm_theta_train, norm_loss_train = gradient_descent(norm_train_in, Y_norm_train, norm_theta_train, norm_train_examples, alpha, iterations)\n",
        "print('Final value of theta =', norm_theta_train)\n",
        "\n",
        "#Standard\n",
        "stand_theta_train = [0.,0.,0.,0.,0.,0.]\n",
        "iterations = 1500;\n",
        "alpha = 0.1;\n",
        "\n",
        "stand_theta_train, stand_loss_train = gradient_descent(stand_train_in, Y_stand_train, stand_theta_train, stand_train_examples, alpha, iterations)\n",
        "print('Final value of theta =', stand_theta_train)\n",
        "\n",
        "\n",
        "###Testing\n",
        "#Normal\n",
        "norm_theta_test = [0.,0.,0.,0.,0.,0.]\n",
        "iterations = 1500;\n",
        "alpha = 0.1;\n",
        "\n",
        "norm_theta_test, norm_loss_test = gradient_descent(norm_test_in, Y_norm_test, norm_theta_test, norm_test_examples, alpha, iterations)\n",
        "print('Final value of theta =', norm_theta_test)\n",
        "\n",
        "#Standard\n",
        "stand_theta_test = [0.,0.,0.,0.,0.,0.]\n",
        "iterations = 1500;\n",
        "alpha = 0.1;\n",
        "\n",
        "stand_theta_test, stand_loss_test = gradient_descent(stand_test_in, Y_stand_test, stand_theta_test,stand_test_examples, alpha, iterations)\n",
        "print('Final value of theta =', stand_theta_test)"
      ],
      "metadata": {
        "colab": {
          "base_uri": "https://localhost:8080/"
        },
        "id": "JJ9ZS-IH1ud1",
        "outputId": "59735ee4-c05a-4fe3-d329-e6dea9c9b652"
      },
      "execution_count": 22,
      "outputs": [
        {
          "output_type": "stream",
          "name": "stdout",
          "text": [
            "Final value of theta = 00          -0.004934\n",
            "area        -0.983220\n",
            "bedrooms     0.041709\n",
            "bathrooms   -0.001071\n",
            "stories     -0.021340\n",
            "parking      0.013067\n",
            "dtype: float64\n",
            "Final value of theta = 00          -0.004934\n",
            "area        -0.983220\n",
            "bedrooms     0.041709\n",
            "bathrooms   -0.001071\n",
            "stories     -0.021340\n",
            "parking      0.013067\n",
            "dtype: float64\n",
            "Final value of theta = 00           0.017838\n",
            "area        -0.938169\n",
            "bedrooms     0.008434\n",
            "bathrooms    0.017988\n",
            "stories      0.011698\n",
            "parking      0.002388\n",
            "dtype: float64\n",
            "Final value of theta = 00           0.017838\n",
            "area        -0.938169\n",
            "bedrooms     0.008434\n",
            "bathrooms    0.017988\n",
            "stories      0.011698\n",
            "parking      0.002388\n",
            "dtype: float64\n"
          ]
        }
      ]
    },
    {
      "cell_type": "code",
      "source": [
        "plt.plot(range(1,iterations + 1), norm_loss_train, color = 'red')\n",
        "plt.plot(range(1,iterations + 1), norm_loss_test, color = 'blue')\n",
        "plt.rcParams[\"figure.figsize\"] = (10,6)\n",
        "plt.grid()\n",
        "plt.xlabel('Number of iterations')\n",
        "plt.ylabel('Loss (J)')\n",
        "plt.title('Convergence of gradient descent')"
      ],
      "metadata": {
        "colab": {
          "base_uri": "https://localhost:8080/",
          "height": 422
        },
        "id": "39vvQDBU1xIG",
        "outputId": "89ce20ce-9e29-4c72-e0e8-d33d1dc98da4"
      },
      "execution_count": 23,
      "outputs": [
        {
          "output_type": "execute_result",
          "data": {
            "text/plain": [
              "Text(0.5, 1.0, 'Convergence of gradient descent')"
            ]
          },
          "metadata": {},
          "execution_count": 23
        },
        {
          "output_type": "display_data",
          "data": {
            "text/plain": [
              "<Figure size 720x432 with 1 Axes>"
            ],
            "image/png": "[encoded data removed]"
          },
          "metadata": {
            "needs_background": "light"
          }
        }
      ]
    },
    {
      "cell_type": "code",
      "source": [
        "plt.plot(range(1,iterations + 1), stand_loss_train, color = 'red')\n",
        "plt.plot(range(1,iterations + 1), stand_loss_test, color = 'blue')\n",
        "plt.rcParams[\"figure.figsize\"] = (10,6)\n",
        "plt.grid()\n",
        "plt.xlabel('Number of iterations')\n",
        "plt.ylabel('Loss (J)')\n",
        "plt.title('Convergence of gradient descent')"
      ],
      "metadata": {
        "colab": {
          "base_uri": "https://localhost:8080/",
          "height": 422
        },
        "id": "ebRKiYGQ1z_N",
        "outputId": "68a732ec-476e-4249-d54f-e105b17ccfde"
      },
      "execution_count": 24,
      "outputs": [
        {
          "output_type": "execute_result",
          "data": {
            "text/plain": [
              "Text(0.5, 1.0, 'Convergence of gradient descent')"
            ]
          },
          "metadata": {},
          "execution_count": 24
        },
        {
          "output_type": "display_data",
          "data": {
            "text/plain": [
              "<Figure size 720x432 with 1 Axes>"
            ],
            "image/png": "[encoded data removed]"
          },
          "metadata": {
            "needs_background": "light"
          }
        }
      ]
    },
    {
      "cell_type": "markdown",
      "source": [
        "Problem 2b"
      ],
      "metadata": {
        "id": "Icz5AJRl14Mo"
      }
    },
    {
      "cell_type": "code",
      "source": [
        "varlist2b = ['area', 'bedrooms', 'bathrooms', 'stories', 'mainroad', 'guestroom', 'basement', 'hotwaterheating', 'airconditioning', 'parking', 'prefarea']\n",
        "\n",
        "#Normal\n",
        "norm_in = normal_df[varlist2b]\n",
        "norm_out = normal_df.iloc[:,0]\n",
        "X_norm_train, X_norm_test, Y_norm_train, Y_norm_test = train_test_split(norm_in, norm_out, test_size = .2, random_state = 100)\n",
        "\n",
        "norm_train_in = pd.concat([pd.Series(1, index=X_norm_train.index, name='00'), X_norm_train], axis=1)\n",
        "norm_test_in = pd.concat([pd.Series(1,index=X_norm_test.index, name='00'), X_norm_test], axis =1)\n",
        "\n",
        "norm_theta_train = np.array([0]*len(norm_train_in.columns))\n",
        "norm_theta_test = np.array([0]*len(norm_test_in.columns))\n",
        "\n",
        "norm_train_examples = len(Y_norm_train)\n",
        "norm_test_examples = len(Y_norm_test)\n",
        "\n",
        "#Standard\n",
        "stand_in = standard_df[varlist2b]\n",
        "stand_out = standard_df.iloc[:,0]\n",
        "X_stand_train, X_stand_test, Y_stand_train, Y_stand_test = train_test_split(stand_in, stand_out, test_size = .2, random_state = 100)\n",
        "\n",
        "stand_train_in = pd.concat([pd.Series(1, index=X_stand_train.index, name='00'), X_norm_train], axis=1)\n",
        "stand_test_in = pd.concat([pd.Series(1,index=X_stand_test.index, name='00'), X_norm_test], axis =1)\n",
        "\n",
        "stand_theta_train = np.array([0]*len(stand_train_in.columns))\n",
        "stand_theta_test = np.array([0]*len(stand_test_in.columns))\n",
        "\n",
        "stand_train_examples = len(Y_stand_train)\n",
        "stand_test_examples = len(Y_stand_test)"
      ],
      "metadata": {
        "id": "XfS1VEYc12Sq"
      },
      "execution_count": 25,
      "outputs": []
    },
    {
      "cell_type": "code",
      "source": [
        "#Normal\n",
        "norm_loss_train = compute_loss(norm_train_in, Y_norm_train, norm_theta_train, norm_train_examples)\n",
        "norm_loss_test = compute_loss(norm_test_in, Y_norm_test, norm_theta_test, norm_test_examples)\n",
        "\n",
        "print(\"Normalized loss of the Training Set: \",norm_loss_train)\n",
        "print(\"Normalized loss of the Testing Set: \",norm_loss_test)\n",
        "\n",
        "#Standard\n",
        "stand_loss_train = compute_loss(stand_train_in, Y_stand_train, stand_theta_train, stand_train_examples)\n",
        "stand_loss_test = compute_loss(stand_test_in, Y_stand_test, stand_theta_test, stand_test_examples)\n",
        "\n",
        "print(\"Standardized loss of the Training Set: \",stand_loss_train)\n",
        "print(\"Standardized loss of the Testing Set: \",stand_loss_test)"
      ],
      "metadata": {
        "colab": {
          "base_uri": "https://localhost:8080/"
        },
        "id": "nV5lP-bc18lL",
        "outputId": "d377d355-96cf-4e9f-b210-dd0a1d19810d"
      },
      "execution_count": 26,
      "outputs": [
        {
          "output_type": "stream",
          "name": "stdout",
          "text": [
            "Normalized loss of the Training Set:  0.517639469200009\n",
            "Normalized loss of the Testing Set:  0.429442123199964\n",
            "Standardized loss of the Training Set:  0.517639469200009\n",
            "Standardized loss of the Testing Set:  0.429442123199964\n"
          ]
        }
      ]
    },
    {
      "cell_type": "code",
      "source": [
        "###Training\n",
        "#Normal\n",
        "norm_theta_train = [0.,0.,0.,0.,0.,0.,0.,0.,0.,0.,0.,0.]\n",
        "iterations = 1500;\n",
        "alpha = 0.1;\n",
        "\n",
        "norm_theta_train, norm_loss_train = gradient_descent(norm_train_in, Y_norm_train, norm_theta_train, norm_train_examples, alpha, iterations)\n",
        "print('Final value of theta =', norm_theta_train)\n",
        "\n",
        "#Standard\n",
        "stand_theta_train = [0.,0.,0.,0.,0.,0.,0.,0.,0.,0.,0.,0.]\n",
        "iterations = 1500;\n",
        "alpha = 0.1;\n",
        "\n",
        "stand_theta_train, stand_loss_train = gradient_descent(stand_train_in, Y_stand_train, stand_theta_train, stand_train_examples, alpha, iterations)\n",
        "print('Final value of theta =', stand_theta_train)\n",
        "\n",
        "\n",
        "###Testing\n",
        "#Normal\n",
        "norm_theta_test = [0.,0.,0.,0.,0.,0.,0.,0.,0.,0.,0.,0.]\n",
        "iterations = 1500;\n",
        "alpha = 0.1;\n",
        "\n",
        "norm_theta_test, norm_loss_test = gradient_descent(norm_test_in, Y_norm_test, norm_theta_test, norm_test_examples, alpha, iterations)\n",
        "print('Final value of theta =', norm_theta_test)\n",
        "\n",
        "#Standard\n",
        "stand_theta_test = [0.,0.,0.,0.,0.,0.,0.,0.,0.,0.,0.,0.]\n",
        "iterations = 1500;\n",
        "alpha = 0.1;\n",
        "\n",
        "stand_theta_test, stand_loss_test = gradient_descent(stand_test_in, Y_stand_test, stand_theta_test,stand_test_examples, alpha, iterations)\n",
        "print('Final value of theta =', stand_theta_test)"
      ],
      "metadata": {
        "colab": {
          "base_uri": "https://localhost:8080/"
        },
        "id": "zuupUIW71-hg",
        "outputId": "a2b137c4-e6b2-40a2-ab7a-b7a3ee657094"
      },
      "execution_count": 27,
      "outputs": [
        {
          "output_type": "stream",
          "name": "stdout",
          "text": [
            "Final value of theta = 00                -0.004267\n",
            "area              -0.989789\n",
            "bedrooms           0.042948\n",
            "bathrooms         -0.004991\n",
            "stories           -0.023282\n",
            "mainroad           0.017213\n",
            "guestroom          0.019785\n",
            "basement          -0.003847\n",
            "hotwaterheating   -0.004422\n",
            "airconditioning    0.001209\n",
            "parking            0.013547\n",
            "prefarea          -0.025420\n",
            "dtype: float64\n",
            "Final value of theta = 00                -0.004267\n",
            "area              -0.989789\n",
            "bedrooms           0.042948\n",
            "bathrooms         -0.004991\n",
            "stories           -0.023282\n",
            "mainroad           0.017213\n",
            "guestroom          0.019785\n",
            "basement          -0.003847\n",
            "hotwaterheating   -0.004422\n",
            "airconditioning    0.001209\n",
            "parking            0.013547\n",
            "prefarea          -0.025420\n",
            "dtype: float64\n",
            "Final value of theta = 00                 0.008421\n",
            "area              -0.939048\n",
            "bedrooms           0.018203\n",
            "bathrooms          0.035093\n",
            "stories            0.007393\n",
            "mainroad           0.004119\n",
            "guestroom          0.025482\n",
            "basement          -0.019556\n",
            "hotwaterheating   -0.009997\n",
            "airconditioning    0.027369\n",
            "parking            0.001978\n",
            "prefarea           0.030842\n",
            "dtype: float64\n",
            "Final value of theta = 00                 0.008421\n",
            "area              -0.939048\n",
            "bedrooms           0.018203\n",
            "bathrooms          0.035093\n",
            "stories            0.007393\n",
            "mainroad           0.004119\n",
            "guestroom          0.025482\n",
            "basement          -0.019556\n",
            "hotwaterheating   -0.009997\n",
            "airconditioning    0.027369\n",
            "parking            0.001978\n",
            "prefarea           0.030842\n",
            "dtype: float64\n"
          ]
        }
      ]
    },
    {
      "cell_type": "code",
      "source": [
        "plt.plot(range(1,iterations + 1), norm_loss_train, color = 'red')\n",
        "plt.plot(range(1,iterations + 1), norm_loss_test, color = 'blue')\n",
        "plt.rcParams[\"figure.figsize\"] = (10,6)\n",
        "plt.grid()\n",
        "plt.xlabel('Number of iterations')\n",
        "plt.ylabel('Loss (J)')\n",
        "plt.title('Convergence of gradient descent')"
      ],
      "metadata": {
        "colab": {
          "base_uri": "https://localhost:8080/",
          "height": 422
        },
        "id": "DRgGQdAB2BDt",
        "outputId": "d9179d08-b127-4fe7-ffe4-bca3275ef6de"
      },
      "execution_count": 28,
      "outputs": [
        {
          "output_type": "execute_result",
          "data": {
            "text/plain": [
              "Text(0.5, 1.0, 'Convergence of gradient descent')"
            ]
          },
          "metadata": {},
          "execution_count": 28
        },
        {
          "output_type": "display_data",
          "data": {
            "text/plain": [
              "<Figure size 720x432 with 1 Axes>"
            ],
            "image/png": "[encoded data removed]"
          },
          "metadata": {
            "needs_background": "light"
          }
        }
      ]
    },
    {
      "cell_type": "code",
      "source": [
        "plt.plot(range(1,iterations + 1), stand_loss_train, color = 'red')\n",
        "plt.plot(range(1,iterations + 1), stand_loss_test, color = 'blue')\n",
        "plt.rcParams[\"figure.figsize\"] = (10,6)\n",
        "plt.grid()\n",
        "plt.xlabel('Number of iterations')\n",
        "plt.ylabel('Loss (J)')\n",
        "plt.title('Convergence of gradient descent')"
      ],
      "metadata": {
        "colab": {
          "base_uri": "https://localhost:8080/",
          "height": 422
        },
        "id": "Cb8Tb1rH2DZg",
        "outputId": "c569817e-e86b-4c8e-f137-bd6a77fe3344"
      },
      "execution_count": 29,
      "outputs": [
        {
          "output_type": "execute_result",
          "data": {
            "text/plain": [
              "Text(0.5, 1.0, 'Convergence of gradient descent')"
            ]
          },
          "metadata": {},
          "execution_count": 29
        },
        {
          "output_type": "display_data",
          "data": {
            "text/plain": [
              "<Figure size 720x432 with 1 Axes>"
            ],
            "image/png": "[encoded data removed]"
          },
          "metadata": {
            "needs_background": "light"
          }
        }
      ]
    },
    {
      "cell_type": "markdown",
      "source": [
        "Problem 3a"
      ],
      "metadata": {
        "id": "OrgqHv1i2Hba"
      }
    },
    {
      "cell_type": "code",
      "source": [
        "file_path = '/content/drive/MyDrive/Machine Learning/Housing.csv'\n",
        "df = pd.DataFrame(pd.read_csv(file_path))\n",
        "\n",
        "normal_df = df\n",
        "standard_df = df"
      ],
      "metadata": {
        "id": "uPDj1Bk82F_w"
      },
      "execution_count": 30,
      "outputs": []
    },
    {
      "cell_type": "code",
      "source": [
        "normal_df = clean_data(normal_df)\n",
        "normal_df.head()"
      ],
      "metadata": {
        "colab": {
          "base_uri": "https://localhost:8080/",
          "height": 206
        },
        "id": "3UU00aI52W6w",
        "outputId": "d2316ebd-9c21-44d1-dee0-e6bfa6fa2a1c"
      },
      "execution_count": 31,
      "outputs": [
        {
          "output_type": "execute_result",
          "data": {
            "text/plain": [
              "      price  area  bedrooms  bathrooms  stories  mainroad  guestroom  \\\n",
              "0  13300000  7420         4          2        3         1          0   \n",
              "1  12250000  8960         4          4        4         1          0   \n",
              "2  12250000  9960         3          2        2         1          0   \n",
              "3  12215000  7500         4          2        2         1          0   \n",
              "4  11410000  7420         4          1        2         1          1   \n",
              "\n",
              "   basement  hotwaterheating  airconditioning  parking  prefarea  \\\n",
              "0         0                0                1        2         1   \n",
              "1         0                0                1        3         0   \n",
              "2         1                0                0        2         1   \n",
              "3         1                0                1        3         1   \n",
              "4         1                0                1        2         0   \n",
              "\n",
              "   furnishingstatus  \n",
              "0                 0  \n",
              "1                 0  \n",
              "2                 1  \n",
              "3                 0  \n",
              "4                 0  "
            ],
            "text/html": [
              "\n",
              "  <div id=\"df-1127904a-9db8-4b25-a5e0-4d1d7d05a65d\">\n",
              "    <div class=\"colab-df-container\">\n",
              "      <div>\n",
              "<style scoped>\n",
              "    .dataframe tbody tr th:only-of-type {\n",
              "        vertical-align: middle;\n",
              "    }\n",
              "\n",
              "    .dataframe tbody tr th {\n",
              "        vertical-align: top;\n",
              "    }\n",
              "\n",
              "    .dataframe thead th {\n",
              "        text-align: right;\n",
              "    }\n",
              "</style>\n",
              "<table border=\"1\" class=\"dataframe\">\n",
              "  <thead>\n",
              "    <tr style=\"text-align: right;\">\n",
              "      <th></th>\n",
              "      <th>price</th>\n",
              "      <th>area</th>\n",
              "      <th>bedrooms</th>\n",
              "      <th>bathrooms</th>\n",
              "      <th>stories</th>\n",
              "      <th>mainroad</th>\n",
              "      <th>guestroom</th>\n",
              "      <th>basement</th>\n",
              "      <th>hotwaterheating</th>\n",
              "      <th>airconditioning</th>\n",
              "      <th>parking</th>\n",
              "      <th>prefarea</th>\n",
              "      <th>furnishingstatus</th>\n",
              "    </tr>\n",
              "  </thead>\n",
              "  <tbody>\n",
              "    <tr>\n",
              "      <th>0</th>\n",
              "      <td>13300000</td>\n",
              "      <td>7420</td>\n",
              "      <td>4</td>\n",
              "      <td>2</td>\n",
              "      <td>3</td>\n",
              "      <td>1</td>\n",
              "      <td>0</td>\n",
              "      <td>0</td>\n",
              "      <td>0</td>\n",
              "      <td>1</td>\n",
              "      <td>2</td>\n",
              "      <td>1</td>\n",
              "      <td>0</td>\n",
              "    </tr>\n",
              "    <tr>\n",
              "      <th>1</th>\n",
              "      <td>12250000</td>\n",
              "      <td>8960</td>\n",
              "      <td>4</td>\n",
              "      <td>4</td>\n",
              "      <td>4</td>\n",
              "      <td>1</td>\n",
              "      <td>0</td>\n",
              "      <td>0</td>\n",
              "      <td>0</td>\n",
              "      <td>1</td>\n",
              "      <td>3</td>\n",
              "      <td>0</td>\n",
              "      <td>0</td>\n",
              "    </tr>\n",
              "    <tr>\n",
              "      <th>2</th>\n",
              "      <td>12250000</td>\n",
              "      <td>9960</td>\n",
              "      <td>3</td>\n",
              "      <td>2</td>\n",
              "      <td>2</td>\n",
              "      <td>1</td>\n",
              "      <td>0</td>\n",
              "      <td>1</td>\n",
              "      <td>0</td>\n",
              "      <td>0</td>\n",
              "      <td>2</td>\n",
              "      <td>1</td>\n",
              "      <td>1</td>\n",
              "    </tr>\n",
              "    <tr>\n",
              "      <th>3</th>\n",
              "      <td>12215000</td>\n",
              "      <td>7500</td>\n",
              "      <td>4</td>\n",
              "      <td>2</td>\n",
              "      <td>2</td>\n",
              "      <td>1</td>\n",
              "      <td>0</td>\n",
              "      <td>1</td>\n",
              "      <td>0</td>\n",
              "      <td>1</td>\n",
              "      <td>3</td>\n",
              "      <td>1</td>\n",
              "      <td>0</td>\n",
              "    </tr>\n",
              "    <tr>\n",
              "      <th>4</th>\n",
              "      <td>11410000</td>\n",
              "      <td>7420</td>\n",
              "      <td>4</td>\n",
              "      <td>1</td>\n",
              "      <td>2</td>\n",
              "      <td>1</td>\n",
              "      <td>1</td>\n",
              "      <td>1</td>\n",
              "      <td>0</td>\n",
              "      <td>1</td>\n",
              "      <td>2</td>\n",
              "      <td>0</td>\n",
              "      <td>0</td>\n",
              "    </tr>\n",
              "  </tbody>\n",
              "</table>\n",
              "</div>\n",
              "      <button class=\"colab-df-convert\" onclick=\"convertToInteractive('df-1127904a-9db8-4b25-a5e0-4d1d7d05a65d')\"\n",
              "              title=\"Convert this dataframe to an interactive table.\"\n",
              "              style=\"display:none;\">\n",
              "        \n",
              "  <svg xmlns=\"http://www.w3.org/2000/svg\" height=\"24px\"viewBox=\"0 0 24 24\"\n",
              "       width=\"24px\">\n",
              "    <path d=\"M0 0h24v24H0V0z\" fill=\"none\"/>\n",
              "    <path d=\"M18.56 5.44l.94 2.06.94-2.06 2.06-.94-2.06-.94-.94-2.06-.94 2.06-2.06.94zm-11 1L8.5 8.5l.94-2.06 2.06-.94-2.06-.94L8.5 2.5l-.94 2.06-2.06.94zm10 10l.94 2.06.94-2.06 2.06-.94-2.06-.94-.94-2.06-.94 2.06-2.06.94z\"/><path d=\"M17.41 7.96l-1.37-1.37c-.4-.4-.92-.59-1.43-.59-.52 0-1.04.2-1.43.59L10.3 9.45l-7.72 7.72c-.78.78-.78 2.05 0 2.83L4 21.41c.39.39.9.59 1.41.59.51 0 1.02-.2 1.41-.59l7.78-7.78 2.81-2.81c.8-.78.8-2.07 0-2.86zM5.41 20L4 18.59l7.72-7.72 1.47 1.35L5.41 20z\"/>\n",
              "  </svg>\n",
              "      </button>\n",
              "      \n",
              "  <style>\n",
              "    .colab-df-container {\n",
              "      display:flex;\n",
              "      flex-wrap:wrap;\n",
              "      gap: 12px;\n",
              "    }\n",
              "\n",
              "    .colab-df-convert {\n",
              "      background-color: #E8F0FE;\n",
              "      border: none;\n",
              "      border-radius: 50%;\n",
              "      cursor: pointer;\n",
              "      display: none;\n",
              "      fill: #1967D2;\n",
              "      height: 32px;\n",
              "      padding: 0 0 0 0;\n",
              "      width: 32px;\n",
              "    }\n",
              "\n",
              "    .colab-df-convert:hover {\n",
              "      background-color: #E2EBFA;\n",
              "      box-shadow: 0px 1px 2px rgba(60, 64, 67, 0.3), 0px 1px 3px 1px rgba(60, 64, 67, 0.15);\n",
              "      fill: #174EA6;\n",
              "    }\n",
              "\n",
              "    [theme=dark] .colab-df-convert {\n",
              "      background-color: #3B4455;\n",
              "      fill: #D2E3FC;\n",
              "    }\n",
              "\n",
              "    [theme=dark] .colab-df-convert:hover {\n",
              "      background-color: #434B5C;\n",
              "      box-shadow: 0px 1px 3px 1px rgba(0, 0, 0, 0.15);\n",
              "      filter: drop-shadow(0px 1px 2px rgba(0, 0, 0, 0.3));\n",
              "      fill: #FFFFFF;\n",
              "    }\n",
              "  </style>\n",
              "\n",
              "      <script>\n",
              "        const buttonEl =\n",
              "          document.querySelector('#df-1127904a-9db8-4b25-a5e0-4d1d7d05a65d button.colab-df-convert');\n",
              "        buttonEl.style.display =\n",
              "          google.colab.kernel.accessAllowed ? 'block' : 'none';\n",
              "\n",
              "        async function convertToInteractive(key) {\n",
              "          const element = document.querySelector('#df-1127904a-9db8-4b25-a5e0-4d1d7d05a65d');\n",
              "          const dataTable =\n",
              "            await google.colab.kernel.invokeFunction('convertToInteractive',\n",
              "                                                     [key], {});\n",
              "          if (!dataTable) return;\n",
              "\n",
              "          const docLinkHtml = 'Like what you see? Visit the ' +\n",
              "            '<a target=\"_blank\" href=https://colab.research.google.com/notebooks/data_table.ipynb>data table notebook</a>'\n",
              "            + ' to learn more about interactive tables.';\n",
              "          element.innerHTML = '';\n",
              "          dataTable['output_type'] = 'display_data';\n",
              "          await google.colab.output.renderOutput(dataTable, element);\n",
              "          const docLink = document.createElement('div');\n",
              "          docLink.innerHTML = docLinkHtml;\n",
              "          element.appendChild(docLink);\n",
              "        }\n",
              "      </script>\n",
              "    </div>\n",
              "  </div>\n",
              "  "
            ]
          },
          "metadata": {},
          "execution_count": 31
        }
      ]
    },
    {
      "cell_type": "code",
      "source": [
        "standard_df = clean_data(standard_df)\n",
        "standard_df.head()"
      ],
      "metadata": {
        "colab": {
          "base_uri": "https://localhost:8080/",
          "height": 206
        },
        "id": "T0KABSgaQH27",
        "outputId": "1a329346-4728-44d9-92e9-3a0dbb6017cb"
      },
      "execution_count": 32,
      "outputs": [
        {
          "output_type": "execute_result",
          "data": {
            "text/plain": [
              "      price  area  bedrooms  bathrooms  stories  mainroad  guestroom  \\\n",
              "0  13300000  7420         4          2        3         1          0   \n",
              "1  12250000  8960         4          4        4         1          0   \n",
              "2  12250000  9960         3          2        2         1          0   \n",
              "3  12215000  7500         4          2        2         1          0   \n",
              "4  11410000  7420         4          1        2         1          1   \n",
              "\n",
              "   basement  hotwaterheating  airconditioning  parking  prefarea  \\\n",
              "0         0                0                1        2         1   \n",
              "1         0                0                1        3         0   \n",
              "2         1                0                0        2         1   \n",
              "3         1                0                1        3         1   \n",
              "4         1                0                1        2         0   \n",
              "\n",
              "   furnishingstatus  \n",
              "0                 0  \n",
              "1                 0  \n",
              "2                 1  \n",
              "3                 0  \n",
              "4                 0  "
            ],
            "text/html": [
              "\n",
              "  <div id=\"df-bf764b78-1d01-4cf4-9772-cb00a0ea506e\">\n",
              "    <div class=\"colab-df-container\">\n",
              "      <div>\n",
              "<style scoped>\n",
              "    .dataframe tbody tr th:only-of-type {\n",
              "        vertical-align: middle;\n",
              "    }\n",
              "\n",
              "    .dataframe tbody tr th {\n",
              "        vertical-align: top;\n",
              "    }\n",
              "\n",
              "    .dataframe thead th {\n",
              "        text-align: right;\n",
              "    }\n",
              "</style>\n",
              "<table border=\"1\" class=\"dataframe\">\n",
              "  <thead>\n",
              "    <tr style=\"text-align: right;\">\n",
              "      <th></th>\n",
              "      <th>price</th>\n",
              "      <th>area</th>\n",
              "      <th>bedrooms</th>\n",
              "      <th>bathrooms</th>\n",
              "      <th>stories</th>\n",
              "      <th>mainroad</th>\n",
              "      <th>guestroom</th>\n",
              "      <th>basement</th>\n",
              "      <th>hotwaterheating</th>\n",
              "      <th>airconditioning</th>\n",
              "      <th>parking</th>\n",
              "      <th>prefarea</th>\n",
              "      <th>furnishingstatus</th>\n",
              "    </tr>\n",
              "  </thead>\n",
              "  <tbody>\n",
              "    <tr>\n",
              "      <th>0</th>\n",
              "      <td>13300000</td>\n",
              "      <td>7420</td>\n",
              "      <td>4</td>\n",
              "      <td>2</td>\n",
              "      <td>3</td>\n",
              "      <td>1</td>\n",
              "      <td>0</td>\n",
              "      <td>0</td>\n",
              "      <td>0</td>\n",
              "      <td>1</td>\n",
              "      <td>2</td>\n",
              "      <td>1</td>\n",
              "      <td>0</td>\n",
              "    </tr>\n",
              "    <tr>\n",
              "      <th>1</th>\n",
              "      <td>12250000</td>\n",
              "      <td>8960</td>\n",
              "      <td>4</td>\n",
              "      <td>4</td>\n",
              "      <td>4</td>\n",
              "      <td>1</td>\n",
              "      <td>0</td>\n",
              "      <td>0</td>\n",
              "      <td>0</td>\n",
              "      <td>1</td>\n",
              "      <td>3</td>\n",
              "      <td>0</td>\n",
              "      <td>0</td>\n",
              "    </tr>\n",
              "    <tr>\n",
              "      <th>2</th>\n",
              "      <td>12250000</td>\n",
              "      <td>9960</td>\n",
              "      <td>3</td>\n",
              "      <td>2</td>\n",
              "      <td>2</td>\n",
              "      <td>1</td>\n",
              "      <td>0</td>\n",
              "      <td>1</td>\n",
              "      <td>0</td>\n",
              "      <td>0</td>\n",
              "      <td>2</td>\n",
              "      <td>1</td>\n",
              "      <td>1</td>\n",
              "    </tr>\n",
              "    <tr>\n",
              "      <th>3</th>\n",
              "      <td>12215000</td>\n",
              "      <td>7500</td>\n",
              "      <td>4</td>\n",
              "      <td>2</td>\n",
              "      <td>2</td>\n",
              "      <td>1</td>\n",
              "      <td>0</td>\n",
              "      <td>1</td>\n",
              "      <td>0</td>\n",
              "      <td>1</td>\n",
              "      <td>3</td>\n",
              "      <td>1</td>\n",
              "      <td>0</td>\n",
              "    </tr>\n",
              "    <tr>\n",
              "      <th>4</th>\n",
              "      <td>11410000</td>\n",
              "      <td>7420</td>\n",
              "      <td>4</td>\n",
              "      <td>1</td>\n",
              "      <td>2</td>\n",
              "      <td>1</td>\n",
              "      <td>1</td>\n",
              "      <td>1</td>\n",
              "      <td>0</td>\n",
              "      <td>1</td>\n",
              "      <td>2</td>\n",
              "      <td>0</td>\n",
              "      <td>0</td>\n",
              "    </tr>\n",
              "  </tbody>\n",
              "</table>\n",
              "</div>\n",
              "      <button class=\"colab-df-convert\" onclick=\"convertToInteractive('df-bf764b78-1d01-4cf4-9772-cb00a0ea506e')\"\n",
              "              title=\"Convert this dataframe to an interactive table.\"\n",
              "              style=\"display:none;\">\n",
              "        \n",
              "  <svg xmlns=\"http://www.w3.org/2000/svg\" height=\"24px\"viewBox=\"0 0 24 24\"\n",
              "       width=\"24px\">\n",
              "    <path d=\"M0 0h24v24H0V0z\" fill=\"none\"/>\n",
              "    <path d=\"M18.56 5.44l.94 2.06.94-2.06 2.06-.94-2.06-.94-.94-2.06-.94 2.06-2.06.94zm-11 1L8.5 8.5l.94-2.06 2.06-.94-2.06-.94L8.5 2.5l-.94 2.06-2.06.94zm10 10l.94 2.06.94-2.06 2.06-.94-2.06-.94-.94-2.06-.94 2.06-2.06.94z\"/><path d=\"M17.41 7.96l-1.37-1.37c-.4-.4-.92-.59-1.43-.59-.52 0-1.04.2-1.43.59L10.3 9.45l-7.72 7.72c-.78.78-.78 2.05 0 2.83L4 21.41c.39.39.9.59 1.41.59.51 0 1.02-.2 1.41-.59l7.78-7.78 2.81-2.81c.8-.78.8-2.07 0-2.86zM5.41 20L4 18.59l7.72-7.72 1.47 1.35L5.41 20z\"/>\n",
              "  </svg>\n",
              "      </button>\n",
              "      \n",
              "  <style>\n",
              "    .colab-df-container {\n",
              "      display:flex;\n",
              "      flex-wrap:wrap;\n",
              "      gap: 12px;\n",
              "    }\n",
              "\n",
              "    .colab-df-convert {\n",
              "      background-color: #E8F0FE;\n",
              "      border: none;\n",
              "      border-radius: 50%;\n",
              "      cursor: pointer;\n",
              "      display: none;\n",
              "      fill: #1967D2;\n",
              "      height: 32px;\n",
              "      padding: 0 0 0 0;\n",
              "      width: 32px;\n",
              "    }\n",
              "\n",
              "    .colab-df-convert:hover {\n",
              "      background-color: #E2EBFA;\n",
              "      box-shadow: 0px 1px 2px rgba(60, 64, 67, 0.3), 0px 1px 3px 1px rgba(60, 64, 67, 0.15);\n",
              "      fill: #174EA6;\n",
              "    }\n",
              "\n",
              "    [theme=dark] .colab-df-convert {\n",
              "      background-color: #3B4455;\n",
              "      fill: #D2E3FC;\n",
              "    }\n",
              "\n",
              "    [theme=dark] .colab-df-convert:hover {\n",
              "      background-color: #434B5C;\n",
              "      box-shadow: 0px 1px 3px 1px rgba(0, 0, 0, 0.15);\n",
              "      filter: drop-shadow(0px 1px 2px rgba(0, 0, 0, 0.3));\n",
              "      fill: #FFFFFF;\n",
              "    }\n",
              "  </style>\n",
              "\n",
              "      <script>\n",
              "        const buttonEl =\n",
              "          document.querySelector('#df-bf764b78-1d01-4cf4-9772-cb00a0ea506e button.colab-df-convert');\n",
              "        buttonEl.style.display =\n",
              "          google.colab.kernel.accessAllowed ? 'block' : 'none';\n",
              "\n",
              "        async function convertToInteractive(key) {\n",
              "          const element = document.querySelector('#df-bf764b78-1d01-4cf4-9772-cb00a0ea506e');\n",
              "          const dataTable =\n",
              "            await google.colab.kernel.invokeFunction('convertToInteractive',\n",
              "                                                     [key], {});\n",
              "          if (!dataTable) return;\n",
              "\n",
              "          const docLinkHtml = 'Like what you see? Visit the ' +\n",
              "            '<a target=\"_blank\" href=https://colab.research.google.com/notebooks/data_table.ipynb>data table notebook</a>'\n",
              "            + ' to learn more about interactive tables.';\n",
              "          element.innerHTML = '';\n",
              "          dataTable['output_type'] = 'display_data';\n",
              "          await google.colab.output.renderOutput(dataTable, element);\n",
              "          const docLink = document.createElement('div');\n",
              "          docLink.innerHTML = docLinkHtml;\n",
              "          element.appendChild(docLink);\n",
              "        }\n",
              "      </script>\n",
              "    </div>\n",
              "  </div>\n",
              "  "
            ]
          },
          "metadata": {},
          "execution_count": 32
        }
      ]
    },
    {
      "cell_type": "code",
      "source": [
        "norm_col = normal_df.columns\n",
        "normalize = preprocessing.Normalizer().fit(normal_df)\n",
        "normal_df[norm_col] = normalize.transform(normal_df[norm_col])"
      ],
      "metadata": {
        "id": "AFu9wgpo2fGa"
      },
      "execution_count": 33,
      "outputs": []
    },
    {
      "cell_type": "code",
      "source": [
        "stand_col = standard_df.columns\n",
        "standardize = preprocessing.StandardScaler().fit(standard_df)\n",
        "standard_df[stand_col] = standardize.transform(standard_df[stand_col])"
      ],
      "metadata": {
        "id": "cxAlpRJy2XUD"
      },
      "execution_count": 34,
      "outputs": []
    },
    {
      "cell_type": "code",
      "source": [
        "lambdaa = 0.01\n",
        "def gradient_descent(X, Y, theta, examples, alpha, iterations):\n",
        "  loss_history = np.zeros(iterations)\n",
        "\n",
        "  for i in range(iterations):\n",
        "    predictions = X.dot(theta)\n",
        "    errors = np.subtract(predictions, Y)\n",
        "    sum_delta = (alpha/examples) * X.transpose().dot(errors);\n",
        "    if i > 0:\n",
        "      sum_delta += ((alpha*lambdaa)/examples) * theta\n",
        "    theta = theta - sum_delta;\n",
        "    loss_history[i] = compute_loss(X, Y, theta, examples)\n",
        "  return theta, loss_history"
      ],
      "metadata": {
        "id": "xi5rnliA2fss"
      },
      "execution_count": 35,
      "outputs": []
    },
    {
      "cell_type": "code",
      "source": [
        "varlist3a = ['area', 'bedrooms', 'bathrooms', 'stories', 'parking']\n",
        "\n",
        "#Normal\n",
        "norm_in = normal_df[varlist3a]\n",
        "norm_out = normal_df.iloc[:,0]\n",
        "X_norm_train, X_norm_test, Y_norm_train, Y_norm_test = train_test_split(norm_in, norm_out, test_size = .2, random_state = 100)\n",
        "\n",
        "norm_train_in = pd.concat([pd.Series(1, index=X_norm_train.index, name='00'), X_norm_train], axis=1)\n",
        "norm_test_in = pd.concat([pd.Series(1,index=X_norm_test.index, name='00'), X_norm_test], axis =1)\n",
        "\n",
        "norm_theta_train = np.array([0]*len(norm_train_in.columns))\n",
        "norm_theta_test = np.array([0]*len(norm_test_in.columns))\n",
        "\n",
        "norm_train_examples = len(Y_norm_train)\n",
        "norm_test_examples = len(Y_norm_test)\n",
        "\n",
        "#Standard\n",
        "stand_in = standard_df[varlist3a]\n",
        "stand_out = standard_df.iloc[:,0]\n",
        "X_stand_train, X_stand_test, Y_stand_train, Y_stand_test = train_test_split(stand_in, stand_out, test_size = .2, random_state = 100)\n",
        "\n",
        "stand_train_in = pd.concat([pd.Series(1, index=X_stand_train.index, name='00'), X_norm_train], axis=1)\n",
        "stand_test_in = pd.concat([pd.Series(1,index=X_stand_test.index, name='00'), X_norm_test], axis =1)\n",
        "\n",
        "stand_theta_train = np.array([0]*len(stand_train_in.columns))\n",
        "stand_theta_test = np.array([0]*len(stand_test_in.columns))\n",
        "\n",
        "stand_train_examples = len(Y_stand_train)\n",
        "stand_test_examples = len(Y_stand_test)"
      ],
      "metadata": {
        "id": "iYkDcw7Z2jJ9"
      },
      "execution_count": 36,
      "outputs": []
    },
    {
      "cell_type": "code",
      "source": [
        "#Normal\n",
        "norm_loss_train = compute_loss(norm_train_in, Y_norm_train, norm_theta_train, norm_train_examples)\n",
        "norm_loss_test = compute_loss(norm_test_in, Y_norm_test, norm_theta_test, norm_test_examples)\n",
        "\n",
        "print(\"Normalized loss of the Training Set: \",norm_loss_train)\n",
        "print(\"Normalized loss of the Testing Set: \",norm_loss_test)\n",
        "\n",
        "\n",
        "#Standard\n",
        "stand_loss_train = compute_loss(stand_train_in, Y_stand_train, stand_theta_train, stand_train_examples)\n",
        "stand_loss_test = compute_loss(stand_test_in, Y_stand_test, stand_theta_test, stand_test_examples)\n",
        "\n",
        "print(\"Standardized loss of the Training Set: \",stand_loss_train)\n",
        "print(\"Standardized loss of the Testing Set: \",stand_loss_test)"
      ],
      "metadata": {
        "colab": {
          "base_uri": "https://localhost:8080/"
        },
        "id": "Ff_RaoNt2mR8",
        "outputId": "f8d259f6-c620-47df-aa22-644cb9a0c465"
      },
      "execution_count": 37,
      "outputs": [
        {
          "output_type": "stream",
          "name": "stdout",
          "text": [
            "Normalized loss of the Training Set:  0.517639469200009\n",
            "Normalized loss of the Testing Set:  0.429442123199964\n",
            "Standardized loss of the Training Set:  0.517639469200009\n",
            "Standardized loss of the Testing Set:  0.429442123199964\n"
          ]
        }
      ]
    },
    {
      "cell_type": "code",
      "source": [
        "###Training\n",
        "#Normal\n",
        "norm_theta_train = [0.,0.,0.,0.,0.,0.]\n",
        "iterations = 1500;\n",
        "alpha = 0.1;\n",
        "\n",
        "norm_theta_train, norm_loss_train = gradient_descent(norm_train_in, Y_norm_train, norm_theta_train, norm_train_examples, alpha, iterations)\n",
        "print('Final value of theta =', norm_theta_train)\n",
        "\n",
        "#Standard\n",
        "stand_theta_train = [0.,0.,0.,0.,0.,0.]\n",
        "iterations = 1500;\n",
        "alpha = 0.1;\n",
        "\n",
        "stand_theta_train, stand_loss_train = gradient_descent(stand_train_in, Y_stand_train, stand_theta_train, stand_train_examples, alpha, iterations)\n",
        "print('Final value of theta =', stand_theta_train)\n",
        "\n",
        "\n",
        "###Testing\n",
        "#Normal\n",
        "norm_theta_test = [0.,0.,0.,0.,0.,0.]\n",
        "iterations = 1500;\n",
        "alpha = 0.1;\n",
        "\n",
        "norm_theta_test, norm_loss_test = gradient_descent(norm_test_in, Y_norm_test, norm_theta_test, norm_test_examples, alpha, iterations)\n",
        "print('Final value of theta =', norm_theta_test)\n",
        "\n",
        "#Standard\n",
        "stand_theta_test = [0.,0.,0.,0.,0.,0.]\n",
        "iterations = 1500;\n",
        "alpha = 0.1;\n",
        "\n",
        "stand_theta_test, stand_loss_test = gradient_descent(stand_test_in, Y_stand_test, stand_theta_test,stand_test_examples, alpha, iterations)\n",
        "print('Final value of theta =', stand_theta_test)"
      ],
      "metadata": {
        "colab": {
          "base_uri": "https://localhost:8080/"
        },
        "id": "ORPWDMsi2pfD",
        "outputId": "8746310a-9bc6-4fe0-8325-01ca8710d028"
      },
      "execution_count": 38,
      "outputs": [
        {
          "output_type": "stream",
          "name": "stdout",
          "text": [
            "Final value of theta = 00          -0.004934\n",
            "area        -0.983195\n",
            "bedrooms     0.041698\n",
            "bathrooms   -0.001071\n",
            "stories     -0.021334\n",
            "parking      0.013063\n",
            "dtype: float64\n",
            "Final value of theta = 00          -0.004934\n",
            "area        -0.983195\n",
            "bedrooms     0.041698\n",
            "bathrooms   -0.001071\n",
            "stories     -0.021334\n",
            "parking      0.013063\n",
            "dtype: float64\n",
            "Final value of theta = 00           0.017832\n",
            "area        -0.938070\n",
            "bedrooms     0.008411\n",
            "bathrooms    0.017979\n",
            "stories      0.011716\n",
            "parking      0.002380\n",
            "dtype: float64\n",
            "Final value of theta = 00           0.017832\n",
            "area        -0.938070\n",
            "bedrooms     0.008411\n",
            "bathrooms    0.017979\n",
            "stories      0.011716\n",
            "parking      0.002380\n",
            "dtype: float64\n"
          ]
        }
      ]
    },
    {
      "cell_type": "code",
      "source": [
        "plt.plot(range(1,iterations + 1), norm_loss_train, color = 'red')\n",
        "plt.plot(range(1,iterations + 1), norm_loss_test, color = 'blue')\n",
        "plt.rcParams[\"figure.figsize\"] = (10,6)\n",
        "plt.grid()\n",
        "plt.xlabel('Number of iterations')\n",
        "plt.ylabel('Loss (J)')\n",
        "plt.title('Convergence of gradient descent')"
      ],
      "metadata": {
        "colab": {
          "base_uri": "https://localhost:8080/",
          "height": 422
        },
        "id": "Eq3EHsqv2tQq",
        "outputId": "1ad187ed-db32-4078-e6e0-8856504037bd"
      },
      "execution_count": 39,
      "outputs": [
        {
          "output_type": "execute_result",
          "data": {
            "text/plain": [
              "Text(0.5, 1.0, 'Convergence of gradient descent')"
            ]
          },
          "metadata": {},
          "execution_count": 39
        },
        {
          "output_type": "display_data",
          "data": {
            "text/plain": [
              "<Figure size 720x432 with 1 Axes>"
            ],
            "image/png": "[encoded data removed]"
          },
          "metadata": {
            "needs_background": "light"
          }
        }
      ]
    },
    {
      "cell_type": "code",
      "source": [
        "plt.plot(range(1,iterations + 1), stand_loss_train, color = 'red')\n",
        "plt.plot(range(1,iterations + 1), stand_loss_test, color = 'blue')\n",
        "plt.rcParams[\"figure.figsize\"] = (10,6)\n",
        "plt.grid()\n",
        "plt.xlabel('Number of iterations')\n",
        "plt.ylabel('Loss (J)')\n",
        "plt.title('Convergence of gradient descent')"
      ],
      "metadata": {
        "colab": {
          "base_uri": "https://localhost:8080/",
          "height": 422
        },
        "id": "rvzWlLy72vvm",
        "outputId": "4a207a8e-a7b3-4803-d3b2-876dc49ea3aa"
      },
      "execution_count": 40,
      "outputs": [
        {
          "output_type": "execute_result",
          "data": {
            "text/plain": [
              "Text(0.5, 1.0, 'Convergence of gradient descent')"
            ]
          },
          "metadata": {},
          "execution_count": 40
        },
        {
          "output_type": "display_data",
          "data": {
            "text/plain": [
              "<Figure size 720x432 with 1 Axes>"
            ],
            "image/png": "[encoded data removed]"
          },
          "metadata": {
            "needs_background": "light"
          }
        }
      ]
    },
    {
      "cell_type": "markdown",
      "source": [
        "Problem 3b"
      ],
      "metadata": {
        "id": "7szTAGrG23tK"
      }
    },
    {
      "cell_type": "code",
      "source": [
        "varlist3b = ['area', 'bedrooms', 'bathrooms', 'stories', 'mainroad', 'guestroom', 'basement', 'hotwaterheating', 'airconditioning', 'parking', 'prefarea']\n",
        "\n",
        "#Normal\n",
        "norm_in = normal_df[varlist3b]\n",
        "norm_out = normal_df.iloc[:,0]\n",
        "X_norm_train, X_norm_test, Y_norm_train, Y_norm_test = train_test_split(norm_in, norm_out, test_size = .2, random_state = 100)\n",
        "\n",
        "norm_train_in = pd.concat([pd.Series(1, index=X_norm_train.index, name='00'), X_norm_train], axis=1)\n",
        "norm_test_in = pd.concat([pd.Series(1,index=X_norm_test.index, name='00'), X_norm_test], axis =1)\n",
        "\n",
        "norm_theta_train = np.array([0]*len(norm_train_in.columns))\n",
        "norm_theta_test = np.array([0]*len(norm_test_in.columns))\n",
        "\n",
        "norm_train_examples = len(Y_norm_train)\n",
        "norm_test_examples = len(Y_norm_test)\n",
        "\n",
        "#Standard\n",
        "stand_in = standard_df[varlist3b]\n",
        "stand_out = standard_df.iloc[:,0]\n",
        "X_stand_train, X_stand_test, Y_stand_train, Y_stand_test = train_test_split(stand_in, stand_out, test_size = .2, random_state = 100)\n",
        "\n",
        "stand_train_in = pd.concat([pd.Series(1, index=X_stand_train.index, name='00'), X_norm_train], axis=1)\n",
        "stand_test_in = pd.concat([pd.Series(1,index=X_stand_test.index, name='00'), X_norm_test], axis =1)\n",
        "\n",
        "stand_theta_train = np.array([0]*len(stand_train_in.columns))\n",
        "stand_theta_test = np.array([0]*len(stand_test_in.columns))\n",
        "\n",
        "stand_train_examples = len(Y_stand_train)\n",
        "stand_test_examples = len(Y_stand_test)"
      ],
      "metadata": {
        "id": "tithvppn2y7l"
      },
      "execution_count": 41,
      "outputs": []
    },
    {
      "cell_type": "code",
      "source": [
        "#Normal\n",
        "norm_loss_train = compute_loss(norm_train_in, Y_norm_train, norm_theta_train, norm_train_examples)\n",
        "norm_loss_test = compute_loss(norm_test_in, Y_norm_test, norm_theta_test, norm_test_examples)\n",
        "\n",
        "print(\"Normalized loss of the Training Set: \",norm_loss_train)\n",
        "print(\"Normalized loss of the Testing Set: \",norm_loss_test)\n",
        "\n",
        "\n",
        "#Standard\n",
        "stand_loss_train = compute_loss(stand_train_in, Y_stand_train, stand_theta_train, stand_train_examples)\n",
        "stand_loss_test = compute_loss(stand_test_in, Y_stand_test, stand_theta_test, stand_test_examples)\n",
        "\n",
        "print(\"Standardized loss of the Training Set: \",stand_loss_train)\n",
        "print(\"Standardized loss of the Testing Set: \",stand_loss_test)"
      ],
      "metadata": {
        "colab": {
          "base_uri": "https://localhost:8080/"
        },
        "id": "e_LHIxCh3bvH",
        "outputId": "43e9e134-4086-4c16-9855-1aa31bad9324"
      },
      "execution_count": 42,
      "outputs": [
        {
          "output_type": "stream",
          "name": "stdout",
          "text": [
            "Normalized loss of the Training Set:  0.517639469200009\n",
            "Normalized loss of the Testing Set:  0.429442123199964\n",
            "Standardized loss of the Training Set:  0.517639469200009\n",
            "Standardized loss of the Testing Set:  0.429442123199964\n"
          ]
        }
      ]
    },
    {
      "cell_type": "code",
      "source": [
        "###Training\n",
        "#Normal\n",
        "norm_theta_train = [0.,0.,0.,0.,0.,0.,0.,0.,0.,0.,0.,0.]\n",
        "iterations = 1500;\n",
        "alpha = 0.1;\n",
        "\n",
        "norm_theta_train, norm_loss_train = gradient_descent(norm_train_in, Y_norm_train, norm_theta_train, norm_train_examples, alpha, iterations)\n",
        "print('Final value of theta =', norm_theta_train)\n",
        "\n",
        "#Standard\n",
        "stand_theta_train = [0.,0.,0.,0.,0.,0.,0.,0.,0.,0.,0.,0.]\n",
        "iterations = 1500;\n",
        "alpha = 0.1;\n",
        "\n",
        "stand_theta_train, stand_loss_train = gradient_descent(stand_train_in, Y_stand_train, stand_theta_train, stand_train_examples, alpha, iterations)\n",
        "print('Final value of theta =', stand_theta_train)\n",
        "\n",
        "\n",
        "###Testing\n",
        "#Normal\n",
        "norm_theta_test = [0.,0.,0.,0.,0.,0.,0.,0.,0.,0.,0.,0.]\n",
        "iterations = 1500;\n",
        "alpha = 0.1;\n",
        "\n",
        "norm_theta_test, norm_loss_test = gradient_descent(norm_test_in, Y_norm_test, norm_theta_test, norm_test_examples, alpha, iterations)\n",
        "print('Final value of theta =', norm_theta_test)\n",
        "\n",
        "#Standard\n",
        "stand_theta_test = [0.,0.,0.,0.,0.,0.,0.,0.,0.,0.,0.,0.]\n",
        "iterations = 1500;\n",
        "alpha = 0.1;\n",
        "\n",
        "stand_theta_test, stand_loss_test = gradient_descent(stand_test_in, Y_stand_test, stand_theta_test,stand_test_examples, alpha, iterations)\n",
        "print('Final value of theta =', stand_theta_test)"
      ],
      "metadata": {
        "colab": {
          "base_uri": "https://localhost:8080/"
        },
        "id": "fpFyTtbL3eCP",
        "outputId": "82a6e569-39ac-4094-fd19-60fd61b8f29e"
      },
      "execution_count": 43,
      "outputs": [
        {
          "output_type": "stream",
          "name": "stdout",
          "text": [
            "Final value of theta = 00                -0.004267\n",
            "area              -0.989761\n",
            "bedrooms           0.042936\n",
            "bathrooms         -0.004990\n",
            "stories           -0.023275\n",
            "mainroad           0.017205\n",
            "guestroom          0.019782\n",
            "basement          -0.003842\n",
            "hotwaterheating   -0.004420\n",
            "airconditioning    0.001209\n",
            "parking            0.013543\n",
            "prefarea          -0.025418\n",
            "dtype: float64\n",
            "Final value of theta = 00                -0.004267\n",
            "area              -0.989761\n",
            "bedrooms           0.042936\n",
            "bathrooms         -0.004990\n",
            "stories           -0.023275\n",
            "mainroad           0.017205\n",
            "guestroom          0.019782\n",
            "basement          -0.003842\n",
            "hotwaterheating   -0.004420\n",
            "airconditioning    0.001209\n",
            "parking            0.013543\n",
            "prefarea          -0.025418\n",
            "dtype: float64\n",
            "Final value of theta = 00                 0.008418\n",
            "area              -0.938931\n",
            "bedrooms           0.018171\n",
            "bathrooms          0.035080\n",
            "stories            0.007429\n",
            "mainroad           0.004103\n",
            "guestroom          0.025479\n",
            "basement          -0.019520\n",
            "hotwaterheating   -0.009980\n",
            "airconditioning    0.027374\n",
            "parking            0.001962\n",
            "prefarea           0.030848\n",
            "dtype: float64\n",
            "Final value of theta = 00                 0.008418\n",
            "area              -0.938931\n",
            "bedrooms           0.018171\n",
            "bathrooms          0.035080\n",
            "stories            0.007429\n",
            "mainroad           0.004103\n",
            "guestroom          0.025479\n",
            "basement          -0.019520\n",
            "hotwaterheating   -0.009980\n",
            "airconditioning    0.027374\n",
            "parking            0.001962\n",
            "prefarea           0.030848\n",
            "dtype: float64\n"
          ]
        }
      ]
    },
    {
      "cell_type": "code",
      "source": [
        "plt.plot(range(1,iterations + 1), norm_loss_train, color = 'red')\n",
        "plt.plot(range(1,iterations + 1), norm_loss_test, color = 'blue')\n",
        "plt.rcParams[\"figure.figsize\"] = (10,6)\n",
        "plt.grid()\n",
        "plt.xlabel('Number of iterations')\n",
        "plt.ylabel('Loss (J)')\n",
        "plt.title('Convergence of gradient descent')"
      ],
      "metadata": {
        "colab": {
          "base_uri": "https://localhost:8080/",
          "height": 422
        },
        "id": "BiOAKDY73h1L",
        "outputId": "526f6569-e401-41a2-fe22-a303b3d5e798"
      },
      "execution_count": 44,
      "outputs": [
        {
          "output_type": "execute_result",
          "data": {
            "text/plain": [
              "Text(0.5, 1.0, 'Convergence of gradient descent')"
            ]
          },
          "metadata": {},
          "execution_count": 44
        },
        {
          "output_type": "display_data",
          "data": {
            "text/plain": [
              "<Figure size 720x432 with 1 Axes>"
            ],
            "image/png": "[encoded data removed]"
          },
          "metadata": {
            "needs_background": "light"
          }
        }
      ]
    },
    {
      "cell_type": "code",
      "source": [
        "plt.plot(range(1,iterations + 1), stand_loss_train, color = 'red')\n",
        "plt.plot(range(1,iterations + 1), stand_loss_test, color = 'blue')\n",
        "plt.rcParams[\"figure.figsize\"] = (10,6)\n",
        "plt.grid()\n",
        "plt.xlabel('Number of iterations')\n",
        "plt.ylabel('Loss (J)')\n",
        "plt.title('Convergence of gradient descent')"
      ],
      "metadata": {
        "colab": {
          "base_uri": "https://localhost:8080/",
          "height": 422
        },
        "id": "8btmv-6y3j5d",
        "outputId": "7f741922-7d26-4a6a-b721-dcf3112a3670"
      },
      "execution_count": 45,
      "outputs": [
        {
          "output_type": "execute_result",
          "data": {
            "text/plain": [
              "Text(0.5, 1.0, 'Convergence of gradient descent')"
            ]
          },
          "metadata": {},
          "execution_count": 45
        },
        {
          "output_type": "display_data",
          "data": {
            "text/plain": [
              "<Figure size 720x432 with 1 Axes>"
            ],
            "image/png": "[encoded data removed]"
          },
          "metadata": {
            "needs_background": "light"
          }
        }
      ]
    }
  ]
}